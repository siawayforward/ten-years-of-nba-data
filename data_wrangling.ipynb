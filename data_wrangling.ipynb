{
 "cells": [
  {
   "cell_type": "code",
   "execution_count": 1,
   "metadata": {},
   "outputs": [],
   "source": [
    "#import modules\n",
    "import pandas as pd\n",
    "import numpy as np\n",
    "import seaborn as sns\n",
    "import matplotlib.pyplot as plt"
   ]
  },
  {
   "cell_type": "code",
   "execution_count": 2,
   "metadata": {},
   "outputs": [],
   "source": [
    "#get files from cleaned data\n",
    "players = pd.read_csv('players.csv', index_col='Unnamed: 0')\n",
    "coaches = pd.read_csv('coaches.csv', index_col='Unnamed: 0')\n",
    "champions = pd.read_csv('champions.csv', index_col='Unnamed: 0')"
   ]
  },
  {
   "cell_type": "code",
   "execution_count": 3,
   "metadata": {
    "tags": []
   },
   "outputs": [
    {
     "output_type": "stream",
     "name": "stdout",
     "text": "(6371, 32)\n"
    },
    {
     "output_type": "execute_result",
     "data": {
      "text/plain": "              Player Pos   Age   Tm     G    GS    MP   FG   FGA    FG%  ...  \\\n0      Arron Afflalo  SG  24.0  DEN  82.0  75.0  27.1  3.3   7.1  0.465  ...   \n1      Alexis Ajinça   C  21.0  CHA   6.0   0.0   5.0  0.8   1.7  0.500  ...   \n2  LaMarcus Aldridge  PF  24.0  POR  78.0  78.0  37.5  7.4  15.0  0.495  ...   \n3      Joe Alexander  SF  23.0  CHI   8.0   0.0   3.6  0.1   0.8  0.167  ...   \n4        Malik Allen  PF  31.0  DEN  51.0   3.0   8.9  0.9   2.3  0.397  ...   \n\n   TRB  AST  STL  BLK  TOV   PF   PTS  Year  Champ  Runner-Up  \n0  3.1  1.7  0.6  0.4  0.9  2.7   8.8  2010      0          0  \n1  0.7  0.0  0.2  0.2  0.3  0.8   1.7  2010      0          0  \n2  8.0  2.1  0.9  0.6  1.3  3.0  17.9  2010      0          0  \n3  0.6  0.3  0.1  0.1  0.0  1.1   0.5  2010      0          0  \n4  1.6  0.3  0.2  0.1  0.4  1.3   2.1  2010      0          0  \n\n[5 rows x 32 columns]",
      "text/html": "<div>\n<style scoped>\n    .dataframe tbody tr th:only-of-type {\n        vertical-align: middle;\n    }\n\n    .dataframe tbody tr th {\n        vertical-align: top;\n    }\n\n    .dataframe thead th {\n        text-align: right;\n    }\n</style>\n<table border=\"1\" class=\"dataframe\">\n  <thead>\n    <tr style=\"text-align: right;\">\n      <th></th>\n      <th>Player</th>\n      <th>Pos</th>\n      <th>Age</th>\n      <th>Tm</th>\n      <th>G</th>\n      <th>GS</th>\n      <th>MP</th>\n      <th>FG</th>\n      <th>FGA</th>\n      <th>FG%</th>\n      <th>...</th>\n      <th>TRB</th>\n      <th>AST</th>\n      <th>STL</th>\n      <th>BLK</th>\n      <th>TOV</th>\n      <th>PF</th>\n      <th>PTS</th>\n      <th>Year</th>\n      <th>Champ</th>\n      <th>Runner-Up</th>\n    </tr>\n  </thead>\n  <tbody>\n    <tr>\n      <th>0</th>\n      <td>Arron Afflalo</td>\n      <td>SG</td>\n      <td>24.0</td>\n      <td>DEN</td>\n      <td>82.0</td>\n      <td>75.0</td>\n      <td>27.1</td>\n      <td>3.3</td>\n      <td>7.1</td>\n      <td>0.465</td>\n      <td>...</td>\n      <td>3.1</td>\n      <td>1.7</td>\n      <td>0.6</td>\n      <td>0.4</td>\n      <td>0.9</td>\n      <td>2.7</td>\n      <td>8.8</td>\n      <td>2010</td>\n      <td>0</td>\n      <td>0</td>\n    </tr>\n    <tr>\n      <th>1</th>\n      <td>Alexis Ajinça</td>\n      <td>C</td>\n      <td>21.0</td>\n      <td>CHA</td>\n      <td>6.0</td>\n      <td>0.0</td>\n      <td>5.0</td>\n      <td>0.8</td>\n      <td>1.7</td>\n      <td>0.500</td>\n      <td>...</td>\n      <td>0.7</td>\n      <td>0.0</td>\n      <td>0.2</td>\n      <td>0.2</td>\n      <td>0.3</td>\n      <td>0.8</td>\n      <td>1.7</td>\n      <td>2010</td>\n      <td>0</td>\n      <td>0</td>\n    </tr>\n    <tr>\n      <th>2</th>\n      <td>LaMarcus Aldridge</td>\n      <td>PF</td>\n      <td>24.0</td>\n      <td>POR</td>\n      <td>78.0</td>\n      <td>78.0</td>\n      <td>37.5</td>\n      <td>7.4</td>\n      <td>15.0</td>\n      <td>0.495</td>\n      <td>...</td>\n      <td>8.0</td>\n      <td>2.1</td>\n      <td>0.9</td>\n      <td>0.6</td>\n      <td>1.3</td>\n      <td>3.0</td>\n      <td>17.9</td>\n      <td>2010</td>\n      <td>0</td>\n      <td>0</td>\n    </tr>\n    <tr>\n      <th>3</th>\n      <td>Joe Alexander</td>\n      <td>SF</td>\n      <td>23.0</td>\n      <td>CHI</td>\n      <td>8.0</td>\n      <td>0.0</td>\n      <td>3.6</td>\n      <td>0.1</td>\n      <td>0.8</td>\n      <td>0.167</td>\n      <td>...</td>\n      <td>0.6</td>\n      <td>0.3</td>\n      <td>0.1</td>\n      <td>0.1</td>\n      <td>0.0</td>\n      <td>1.1</td>\n      <td>0.5</td>\n      <td>2010</td>\n      <td>0</td>\n      <td>0</td>\n    </tr>\n    <tr>\n      <th>4</th>\n      <td>Malik Allen</td>\n      <td>PF</td>\n      <td>31.0</td>\n      <td>DEN</td>\n      <td>51.0</td>\n      <td>3.0</td>\n      <td>8.9</td>\n      <td>0.9</td>\n      <td>2.3</td>\n      <td>0.397</td>\n      <td>...</td>\n      <td>1.6</td>\n      <td>0.3</td>\n      <td>0.2</td>\n      <td>0.1</td>\n      <td>0.4</td>\n      <td>1.3</td>\n      <td>2.1</td>\n      <td>2010</td>\n      <td>0</td>\n      <td>0</td>\n    </tr>\n  </tbody>\n</table>\n<p>5 rows × 32 columns</p>\n</div>"
     },
     "metadata": {},
     "execution_count": 3
    }
   ],
   "source": [
    "print(players.shape)\n",
    "players.head()"
   ]
  },
  {
   "cell_type": "code",
   "execution_count": 4,
   "metadata": {
    "tags": []
   },
   "outputs": [
    {
     "output_type": "stream",
     "name": "stdout",
     "text": "(332, 26)\n"
    },
    {
     "output_type": "execute_result",
     "data": {
      "text/plain": "             Coach Team  F-Seasons  Car-Seasons  CR-G  CR-W  CR-L  FR-G  FR-W  \\\n0     Mike Woodson  ATL          6            6    82    53    29   492   206   \n1       Doc Rivers  BOS          6           11    82    50    32   492   280   \n2      Larry Brown  CHA          2           29    82    44    38   164    79   \n3  Vinny Del Negro  CHI          2            2    82    41    41   164    82   \n4       Mike Brown  CLE          5            5    82    61    21   410   272   \n\n   FR-L  ...  CP-L  FP-G  FP-W  FP-L  Car.P-G  Car.P-W  Car.P-L  Year  Champ  \\\n0   286  ...   7.0  29.0  11.0  18.0     29.0     11.0     18.0  2010      0   \n1   212  ...   9.0  71.0  41.0  30.0     86.0     46.0     40.0  2010      0   \n2    85  ...   4.0   4.0   0.0   4.0    235.0    120.0    115.0  2010      0   \n3    82  ...   4.0  12.0   4.0   8.0     12.0      4.0      8.0  2010      0   \n4   138  ...   5.0  71.0  42.0  29.0     71.0     42.0     29.0  2010      0   \n\n   Runner-Up  \n0          0  \n1          1  \n2          0  \n3          0  \n4          0  \n\n[5 rows x 26 columns]",
      "text/html": "<div>\n<style scoped>\n    .dataframe tbody tr th:only-of-type {\n        vertical-align: middle;\n    }\n\n    .dataframe tbody tr th {\n        vertical-align: top;\n    }\n\n    .dataframe thead th {\n        text-align: right;\n    }\n</style>\n<table border=\"1\" class=\"dataframe\">\n  <thead>\n    <tr style=\"text-align: right;\">\n      <th></th>\n      <th>Coach</th>\n      <th>Team</th>\n      <th>F-Seasons</th>\n      <th>Car-Seasons</th>\n      <th>CR-G</th>\n      <th>CR-W</th>\n      <th>CR-L</th>\n      <th>FR-G</th>\n      <th>FR-W</th>\n      <th>FR-L</th>\n      <th>...</th>\n      <th>CP-L</th>\n      <th>FP-G</th>\n      <th>FP-W</th>\n      <th>FP-L</th>\n      <th>Car.P-G</th>\n      <th>Car.P-W</th>\n      <th>Car.P-L</th>\n      <th>Year</th>\n      <th>Champ</th>\n      <th>Runner-Up</th>\n    </tr>\n  </thead>\n  <tbody>\n    <tr>\n      <th>0</th>\n      <td>Mike Woodson</td>\n      <td>ATL</td>\n      <td>6</td>\n      <td>6</td>\n      <td>82</td>\n      <td>53</td>\n      <td>29</td>\n      <td>492</td>\n      <td>206</td>\n      <td>286</td>\n      <td>...</td>\n      <td>7.0</td>\n      <td>29.0</td>\n      <td>11.0</td>\n      <td>18.0</td>\n      <td>29.0</td>\n      <td>11.0</td>\n      <td>18.0</td>\n      <td>2010</td>\n      <td>0</td>\n      <td>0</td>\n    </tr>\n    <tr>\n      <th>1</th>\n      <td>Doc Rivers</td>\n      <td>BOS</td>\n      <td>6</td>\n      <td>11</td>\n      <td>82</td>\n      <td>50</td>\n      <td>32</td>\n      <td>492</td>\n      <td>280</td>\n      <td>212</td>\n      <td>...</td>\n      <td>9.0</td>\n      <td>71.0</td>\n      <td>41.0</td>\n      <td>30.0</td>\n      <td>86.0</td>\n      <td>46.0</td>\n      <td>40.0</td>\n      <td>2010</td>\n      <td>0</td>\n      <td>1</td>\n    </tr>\n    <tr>\n      <th>2</th>\n      <td>Larry Brown</td>\n      <td>CHA</td>\n      <td>2</td>\n      <td>29</td>\n      <td>82</td>\n      <td>44</td>\n      <td>38</td>\n      <td>164</td>\n      <td>79</td>\n      <td>85</td>\n      <td>...</td>\n      <td>4.0</td>\n      <td>4.0</td>\n      <td>0.0</td>\n      <td>4.0</td>\n      <td>235.0</td>\n      <td>120.0</td>\n      <td>115.0</td>\n      <td>2010</td>\n      <td>0</td>\n      <td>0</td>\n    </tr>\n    <tr>\n      <th>3</th>\n      <td>Vinny Del Negro</td>\n      <td>CHI</td>\n      <td>2</td>\n      <td>2</td>\n      <td>82</td>\n      <td>41</td>\n      <td>41</td>\n      <td>164</td>\n      <td>82</td>\n      <td>82</td>\n      <td>...</td>\n      <td>4.0</td>\n      <td>12.0</td>\n      <td>4.0</td>\n      <td>8.0</td>\n      <td>12.0</td>\n      <td>4.0</td>\n      <td>8.0</td>\n      <td>2010</td>\n      <td>0</td>\n      <td>0</td>\n    </tr>\n    <tr>\n      <th>4</th>\n      <td>Mike Brown</td>\n      <td>CLE</td>\n      <td>5</td>\n      <td>5</td>\n      <td>82</td>\n      <td>61</td>\n      <td>21</td>\n      <td>410</td>\n      <td>272</td>\n      <td>138</td>\n      <td>...</td>\n      <td>5.0</td>\n      <td>71.0</td>\n      <td>42.0</td>\n      <td>29.0</td>\n      <td>71.0</td>\n      <td>42.0</td>\n      <td>29.0</td>\n      <td>2010</td>\n      <td>0</td>\n      <td>0</td>\n    </tr>\n  </tbody>\n</table>\n<p>5 rows × 26 columns</p>\n</div>"
     },
     "metadata": {},
     "execution_count": 4
    }
   ],
   "source": [
    "print(coaches.shape)\n",
    "coaches.head()"
   ]
  },
  {
   "cell_type": "code",
   "execution_count": 5,
   "metadata": {},
   "outputs": [
    {
     "output_type": "execute_result",
     "data": {
      "text/plain": "Index(['Player', 'Pos', 'Age', 'Tm', 'G', 'GS', 'MP', 'FG', 'FGA', 'FG%', '3P',\n       '3PA', '3P%', '2P', '2PA', '2P%', 'eFG%', 'FT', 'FTA', 'FT%', 'ORB',\n       'DRB', 'TRB', 'AST', 'STL', 'BLK', 'TOV', 'PF', 'PTS', 'Year', 'Champ',\n       'Runner-Up'],\n      dtype='object')"
     },
     "metadata": {},
     "execution_count": 5
    }
   ],
   "source": [
    "#Descriptive statistics\n",
    "players.columns"
   ]
  },
  {
   "cell_type": "code",
   "execution_count": 6,
   "metadata": {},
   "outputs": [],
   "source": [
    "#list of numerical and categorical features\n",
    "player_num_features = ['Age', 'G', 'GS','MP', 'FG', 'FGA', 'FG%', '3P', '3PA', '3P%', '2P', '2PA',                         '2P%', 'eFG%', 'FT', 'FTA', 'FT%', 'ORB', 'DRB', 'TRB', 'AST', 'STL', 'BLK',                        'TOV', 'PF','PTS']\n",
    "player_cat_features = ['Player', 'Pos', 'Tm', 'Year', 'Champ', 'Runner-Up']"
   ]
  },
  {
   "cell_type": "markdown",
   "metadata": {},
   "source": [
    "# Players \n",
    "\n",
    "## Exploring Null Values:\n",
    "- There are players who are on the team, but haven't played games\n",
    "- Some players entered a game, but didn't record a shot (minutes played != 0)\n",
    "- There are players who won't have attempted two pointers or three pointers e.g. centers, some forwards\n",
    "- Those who don't get to the free throw line"
   ]
  },
  {
   "cell_type": "code",
   "execution_count": 7,
   "metadata": {},
   "outputs": [],
   "source": [
    "def get_null_columns(df):\n",
    "    nulls = df.isnull().sum()\n",
    "    for key, i in zip(list(nulls.keys()), nulls):\n",
    "        if i > 0: print(key, '\\t', i)"
   ]
  },
  {
   "cell_type": "code",
   "execution_count": 8,
   "metadata": {
    "tags": []
   },
   "outputs": [
    {
     "output_type": "stream",
     "name": "stdout",
     "text": "Age \t 237\nG \t 237\nGS \t 237\nMP \t 237\nFG \t 237\nFGA \t 237\nFG% \t 271\n3P \t 237\n3PA \t 237\n3P% \t 1026\n2P \t 237\n2PA \t 237\n2P% \t 309\neFG% \t 271\nFT \t 237\nFTA \t 237\nFT% \t 540\nORB \t 237\nDRB \t 237\nTRB \t 237\nAST \t 237\nSTL \t 237\nBLK \t 237\nTOV \t 237\nPF \t 237\nPTS \t 237\n"
    }
   ],
   "source": [
    "get_null_columns(players)"
   ]
  },
  {
   "cell_type": "markdown",
   "metadata": {},
   "source": [
    "Note, the FG% and eFG% are missing 34 values --> these players did not attempt a shot, whether or not they played. Let's see if they played. Other observations:\n",
    "- 237 players were rostered, but did not play any minutes of basketball for their teams\n",
    "- 271-237 players recorded game minutes, but never attempted a shot in a game \n",
    "- 1026-237 players recorded minutes, but didn't attempt a three pointer\n",
    "- 309-237 players recorded minutes, but didn't attempt a two pointer\n",
    "- 540-237 players recorded minutes, but didn't attempt a free throw\n",
    "\n",
    "\n",
    "### What to remove?\n",
    "- We don't want to keep any players who didn't play any minutes (G == 0 or MPG == 0.0)\n",
    "- Might keep players whose average minutes are 0 because maybe they played a game or two. Have to see first."
   ]
  },
  {
   "cell_type": "code",
   "execution_count": 9,
   "metadata": {
    "tags": []
   },
   "outputs": [
    {
     "output_type": "stream",
     "name": "stdout",
     "text": "Players with 0 minutes played are 3.72% of the data\nWe have gone from 6371 to 6134 observations.\n"
    }
   ],
   "source": [
    "no_min = len(players[players['MP'].isnull()])\n",
    "print('Players with 0 minutes played are {}% of the data'.format(round(no_min*100/len(players), 2)))\n",
    "\n",
    "#drop this population -> cannot extract info to answer business question\n",
    "played_minutes = players[players['MP'].isnull() == False]\n",
    "played_size = len(played_minutes)\n",
    "print('We have gone from {} to {} observations.'.format(len(players), len(played_minutes)))"
   ]
  },
  {
   "cell_type": "markdown",
   "metadata": {},
   "source": [
    "### Exploring small impact players\n",
    "Some players have minutes recorded, but they could be entering the game and not attempting shots/assists or affecting the defensive effort with rebounds/steals/blocks. Using a threshold of MP = 2.0/per game and 5 or less games to start to see if we should keep or drop these players."
   ]
  },
  {
   "cell_type": "code",
   "execution_count": 10,
   "metadata": {
    "tags": []
   },
   "outputs": [
    {
     "output_type": "stream",
     "name": "stdout",
     "text": "Players who had small impact are 0.95% of the data\n"
    },
    {
     "output_type": "execute_result",
     "data": {
      "text/plain": "             Age          G    GS         MP         FG        FGA        FG%  \\\ncount  58.000000  58.000000  58.0  58.000000  58.000000  58.000000  37.000000   \nmean   24.293103   2.258621   0.0   1.517241   0.160345   0.525862   0.312622   \nstd     2.828481   1.318696   0.0   0.539375   0.293162   0.484337   0.377660   \nmin    20.000000   1.000000   0.0   0.000000   0.000000   0.000000   0.000000   \n25%    22.250000   1.000000   0.0   1.000000   0.000000   0.000000   0.000000   \n50%    23.500000   2.000000   0.0   1.750000   0.000000   0.500000   0.000000   \n75%    25.750000   3.000000   0.0   2.000000   0.300000   1.000000   0.500000   \nmax    32.000000   6.000000   0.0   2.000000   1.000000   2.000000   1.000000   \n\n              3P        3PA        3P%  ...       FT%        ORB        DRB  \\\ncount  58.000000  58.000000  12.000000  ...  6.000000  58.000000  58.000000   \nmean    0.017241   0.108621   0.166667  ...  0.458333   0.122414   0.215517   \nstd     0.099363   0.248705   0.389249  ...  0.332290   0.308956   0.320527   \nmin     0.000000   0.000000   0.000000  ...  0.000000   0.000000   0.000000   \n25%     0.000000   0.000000   0.000000  ...  0.312500   0.000000   0.000000   \n50%     0.000000   0.000000   0.000000  ...  0.500000   0.000000   0.000000   \n75%     0.000000   0.000000   0.000000  ...  0.500000   0.000000   0.300000   \nmax     0.700000   1.000000   1.000000  ...  1.000000   1.500000   1.000000   \n\n             TRB        AST        STL        BLK        TOV         PF  \\\ncount  58.000000  58.000000  58.000000  58.000000  58.000000  58.000000   \nmean    0.336207   0.058621   0.027586   0.034483   0.103448   0.191379   \nstd     0.441567   0.140218   0.091370   0.105218   0.220816   0.462368   \nmin     0.000000   0.000000   0.000000   0.000000   0.000000   0.000000   \n25%     0.000000   0.000000   0.000000   0.000000   0.000000   0.000000   \n50%     0.000000   0.000000   0.000000   0.000000   0.000000   0.000000   \n75%     0.650000   0.000000   0.000000   0.000000   0.150000   0.000000   \nmax     1.500000   0.700000   0.400000   0.500000   1.300000   2.000000   \n\n             PTS  \ncount  58.000000  \nmean    0.372414  \nstd     0.642034  \nmin     0.000000  \n25%     0.000000  \n50%     0.000000  \n75%     0.700000  \nmax     2.000000  \n\n[8 rows x 26 columns]",
      "text/html": "<div>\n<style scoped>\n    .dataframe tbody tr th:only-of-type {\n        vertical-align: middle;\n    }\n\n    .dataframe tbody tr th {\n        vertical-align: top;\n    }\n\n    .dataframe thead th {\n        text-align: right;\n    }\n</style>\n<table border=\"1\" class=\"dataframe\">\n  <thead>\n    <tr style=\"text-align: right;\">\n      <th></th>\n      <th>Age</th>\n      <th>G</th>\n      <th>GS</th>\n      <th>MP</th>\n      <th>FG</th>\n      <th>FGA</th>\n      <th>FG%</th>\n      <th>3P</th>\n      <th>3PA</th>\n      <th>3P%</th>\n      <th>...</th>\n      <th>FT%</th>\n      <th>ORB</th>\n      <th>DRB</th>\n      <th>TRB</th>\n      <th>AST</th>\n      <th>STL</th>\n      <th>BLK</th>\n      <th>TOV</th>\n      <th>PF</th>\n      <th>PTS</th>\n    </tr>\n  </thead>\n  <tbody>\n    <tr>\n      <th>count</th>\n      <td>58.000000</td>\n      <td>58.000000</td>\n      <td>58.0</td>\n      <td>58.000000</td>\n      <td>58.000000</td>\n      <td>58.000000</td>\n      <td>37.000000</td>\n      <td>58.000000</td>\n      <td>58.000000</td>\n      <td>12.000000</td>\n      <td>...</td>\n      <td>6.000000</td>\n      <td>58.000000</td>\n      <td>58.000000</td>\n      <td>58.000000</td>\n      <td>58.000000</td>\n      <td>58.000000</td>\n      <td>58.000000</td>\n      <td>58.000000</td>\n      <td>58.000000</td>\n      <td>58.000000</td>\n    </tr>\n    <tr>\n      <th>mean</th>\n      <td>24.293103</td>\n      <td>2.258621</td>\n      <td>0.0</td>\n      <td>1.517241</td>\n      <td>0.160345</td>\n      <td>0.525862</td>\n      <td>0.312622</td>\n      <td>0.017241</td>\n      <td>0.108621</td>\n      <td>0.166667</td>\n      <td>...</td>\n      <td>0.458333</td>\n      <td>0.122414</td>\n      <td>0.215517</td>\n      <td>0.336207</td>\n      <td>0.058621</td>\n      <td>0.027586</td>\n      <td>0.034483</td>\n      <td>0.103448</td>\n      <td>0.191379</td>\n      <td>0.372414</td>\n    </tr>\n    <tr>\n      <th>std</th>\n      <td>2.828481</td>\n      <td>1.318696</td>\n      <td>0.0</td>\n      <td>0.539375</td>\n      <td>0.293162</td>\n      <td>0.484337</td>\n      <td>0.377660</td>\n      <td>0.099363</td>\n      <td>0.248705</td>\n      <td>0.389249</td>\n      <td>...</td>\n      <td>0.332290</td>\n      <td>0.308956</td>\n      <td>0.320527</td>\n      <td>0.441567</td>\n      <td>0.140218</td>\n      <td>0.091370</td>\n      <td>0.105218</td>\n      <td>0.220816</td>\n      <td>0.462368</td>\n      <td>0.642034</td>\n    </tr>\n    <tr>\n      <th>min</th>\n      <td>20.000000</td>\n      <td>1.000000</td>\n      <td>0.0</td>\n      <td>0.000000</td>\n      <td>0.000000</td>\n      <td>0.000000</td>\n      <td>0.000000</td>\n      <td>0.000000</td>\n      <td>0.000000</td>\n      <td>0.000000</td>\n      <td>...</td>\n      <td>0.000000</td>\n      <td>0.000000</td>\n      <td>0.000000</td>\n      <td>0.000000</td>\n      <td>0.000000</td>\n      <td>0.000000</td>\n      <td>0.000000</td>\n      <td>0.000000</td>\n      <td>0.000000</td>\n      <td>0.000000</td>\n    </tr>\n    <tr>\n      <th>25%</th>\n      <td>22.250000</td>\n      <td>1.000000</td>\n      <td>0.0</td>\n      <td>1.000000</td>\n      <td>0.000000</td>\n      <td>0.000000</td>\n      <td>0.000000</td>\n      <td>0.000000</td>\n      <td>0.000000</td>\n      <td>0.000000</td>\n      <td>...</td>\n      <td>0.312500</td>\n      <td>0.000000</td>\n      <td>0.000000</td>\n      <td>0.000000</td>\n      <td>0.000000</td>\n      <td>0.000000</td>\n      <td>0.000000</td>\n      <td>0.000000</td>\n      <td>0.000000</td>\n      <td>0.000000</td>\n    </tr>\n    <tr>\n      <th>50%</th>\n      <td>23.500000</td>\n      <td>2.000000</td>\n      <td>0.0</td>\n      <td>1.750000</td>\n      <td>0.000000</td>\n      <td>0.500000</td>\n      <td>0.000000</td>\n      <td>0.000000</td>\n      <td>0.000000</td>\n      <td>0.000000</td>\n      <td>...</td>\n      <td>0.500000</td>\n      <td>0.000000</td>\n      <td>0.000000</td>\n      <td>0.000000</td>\n      <td>0.000000</td>\n      <td>0.000000</td>\n      <td>0.000000</td>\n      <td>0.000000</td>\n      <td>0.000000</td>\n      <td>0.000000</td>\n    </tr>\n    <tr>\n      <th>75%</th>\n      <td>25.750000</td>\n      <td>3.000000</td>\n      <td>0.0</td>\n      <td>2.000000</td>\n      <td>0.300000</td>\n      <td>1.000000</td>\n      <td>0.500000</td>\n      <td>0.000000</td>\n      <td>0.000000</td>\n      <td>0.000000</td>\n      <td>...</td>\n      <td>0.500000</td>\n      <td>0.000000</td>\n      <td>0.300000</td>\n      <td>0.650000</td>\n      <td>0.000000</td>\n      <td>0.000000</td>\n      <td>0.000000</td>\n      <td>0.150000</td>\n      <td>0.000000</td>\n      <td>0.700000</td>\n    </tr>\n    <tr>\n      <th>max</th>\n      <td>32.000000</td>\n      <td>6.000000</td>\n      <td>0.0</td>\n      <td>2.000000</td>\n      <td>1.000000</td>\n      <td>2.000000</td>\n      <td>1.000000</td>\n      <td>0.700000</td>\n      <td>1.000000</td>\n      <td>1.000000</td>\n      <td>...</td>\n      <td>1.000000</td>\n      <td>1.500000</td>\n      <td>1.000000</td>\n      <td>1.500000</td>\n      <td>0.700000</td>\n      <td>0.400000</td>\n      <td>0.500000</td>\n      <td>1.300000</td>\n      <td>2.000000</td>\n      <td>2.000000</td>\n    </tr>\n  </tbody>\n</table>\n<p>8 rows × 26 columns</p>\n</div>"
     },
     "metadata": {},
     "execution_count": 10
    }
   ],
   "source": [
    "played_few_mins = played_minutes[(played_minutes['MP'] <= 2.0) & (played_minutes['G'] <= 6)\n",
    "                    & (played_minutes['PTS'] <= 2.0)]\n",
    "pct_total = len(played_few_mins)*100/len(played_minutes)\n",
    "print('Players who had small impact are {}% of the data'.format(round(pct_total,2)))\n",
    "played_few_mins[player_num_features].describe()"
   ]
  },
  {
   "cell_type": "markdown",
   "metadata": {},
   "source": [
    "Of these players:\n",
    "- The only statistic that sticks out is number of games played. There is an outlier of 9 games over the 75% percentile. There is also a player(s) who averaged 3.0/game which is also way over the 75% percentile value of 0.7/game\n",
    "- The standard deviations for game metrics are huge which makes sense because the chances of these individuals playing and their impact on a game are stochastic, and cannot be gainfully analysed/all over the place.\n",
    "- After filtering out the highest number of games (6 - consistency check) and the highest point average (2.0/game), the rest of the players' impact seems minimal.\n",
    "**Decision:** Dropping them from the dataset (58 observations -> .95% of dataset)"
   ]
  },
  {
   "cell_type": "code",
   "execution_count": 11,
   "metadata": {
    "tags": []
   },
   "outputs": [
    {
     "output_type": "stream",
     "name": "stdout",
     "text": "We have now gone from 6134 to 6076 observations.\n"
    }
   ],
   "source": [
    "played_minutes = played_minutes[(played_minutes['MP'] > 2.0) | (played_minutes['G'] > 6)\n",
    "                    | (played_minutes['PTS'] > 2.0)]\n",
    "print('We have now gone from {} to {} observations.'.format(played_size, len(played_minutes)))"
   ]
  },
  {
   "cell_type": "code",
   "execution_count": 12,
   "metadata": {
    "tags": []
   },
   "outputs": [
    {
     "output_type": "stream",
     "name": "stdout",
     "text": "FG% \t 13\n3P% \t 743\n2P% \t 46\neFG% \t 13\nFT% \t 251\n"
    }
   ],
   "source": [
    "#rechecking null values\n",
    "get_null_columns(played_minutes)"
   ]
  },
  {
   "cell_type": "markdown",
   "metadata": {},
   "source": [
    "# Coaches "
   ]
  },
  {
   "cell_type": "code",
   "execution_count": 13,
   "metadata": {},
   "outputs": [
    {
     "output_type": "execute_result",
     "data": {
      "text/plain": "array(['Coach', 'Team', 'F-Seasons', 'Car-Seasons', 'CR-G', 'CR-W',\n       'CR-L', 'FR-G', 'FR-W', 'FR-L', 'Car-G', 'Car-W', 'Car-L',\n       'Car-W%', 'CP-G', 'CP-W', 'CP-L', 'FP-G', 'FP-W', 'FP-L',\n       'Car.P-G', 'Car.P-W', 'Car.P-L', 'Year', 'Champ', 'Runner-Up'],\n      dtype=object)"
     },
     "metadata": {},
     "execution_count": 13
    }
   ],
   "source": [
    "coaches.columns.values"
   ]
  },
  {
   "cell_type": "code",
   "execution_count": 14,
   "metadata": {
    "tags": []
   },
   "outputs": [
    {
     "output_type": "stream",
     "name": "stdout",
     "text": "CP-G \t 172\nCP-W \t 172\nCP-L \t 172\nFP-G \t 114\nFP-W \t 114\nFP-L \t 114\nCar.P-G \t 65\nCar.P-W \t 65\nCar.P-L \t 65\n"
    }
   ],
   "source": [
    "get_null_columns(coaches)\n",
    "#recall, coaches table key:"
   ]
  },
  {
   "cell_type": "markdown",
   "metadata": {},
   "source": [
    "Coaches table is straight forward and no trimming will help to extract more data about finals appearances. It will be left as is. The next steps involved extracting data needed to analyze finals and championship teams."
   ]
  },
  {
   "cell_type": "code",
   "execution_count": 16,
   "metadata": {
    "tags": []
   },
   "outputs": [],
   "source": [
    "#trimmed data saved\n",
    "played_minutes.to_csv('players_trim.csv')"
   ]
  }
 ],
 "metadata": {
  "language_info": {
   "codemirror_mode": {
    "name": "ipython",
    "version": 3
   },
   "file_extension": ".py",
   "mimetype": "text/x-python",
   "name": "python",
   "nbconvert_exporter": "python",
   "pygments_lexer": "ipython3",
   "version": "3.7.6-final"
  },
  "orig_nbformat": 2,
  "kernelspec": {
   "name": "python_defaultSpec_1600654393116",
   "display_name": "Python 3.7.6 64-bit"
  }
 },
 "nbformat": 4,
 "nbformat_minor": 2
}