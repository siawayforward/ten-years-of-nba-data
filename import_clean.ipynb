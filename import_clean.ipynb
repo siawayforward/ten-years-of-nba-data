{
 "cells": [
  {
   "cell_type": "markdown",
   "metadata": {},
   "source": [
    "**Theory**\n",
    "Stephen Curry and co. changed the narrative for defense wins championships. What if offense always won championships, and a good defense helped? What if the phrase was always backwards - a myth? So to check this, I'd like to do a data exploration to see if this is somewhat true by looking at offense and defense features among other characteristics of a team and its players and coaches"
   ]
  },
  {
   "cell_type": "code",
   "execution_count": 1,
   "metadata": {},
   "outputs": [],
   "source": [
    "import pandas as pd\n",
    "import numpy as np"
   ]
  },
  {
   "cell_type": "markdown",
   "metadata": {},
   "source": [
    "### Player and Coach Data\n",
    "Below we extract player and coach data for the last ten seasons (2010-2019) from Sports Reference site. This includes:\n",
    "- Player average statistics over the course of a season (includes postseason)\n",
    "- Coach record data over the course of season and career for experience tracking (includes postseason)\n",
    "- Last ten NBA champions and runner up along with main performers in that year's postseason"
   ]
  },
  {
   "cell_type": "code",
   "execution_count": 2,
   "metadata": {
    "tags": []
   },
   "outputs": [
    {
     "output_type": "stream",
     "name": "stdout",
     "text": "(6371, 31)\n(352, 27)\n"
    }
   ],
   "source": [
    "df_players = pd.DataFrame()\n",
    "df_coaches = pd.DataFrame()\n",
    "\n",
    "#get data - interested in last ten full seasons; remember 2011 lockout season\n",
    "for i in range(2010, 2020):\n",
    "    players = 'https://www.basketball-reference.com/leagues/NBA_'+str(i)+'_per_game.html#per_game_stats::none'\n",
    "    coaches = 'https://www.basketball-reference.com/leagues/NBA_'+str(i)+'_coaches.html#NBA_coaches::none'\n",
    "    df_player = pd.read_html(players, header=0)[0]\n",
    "    df_coach = pd.read_html(coaches, header=0)[0]\n",
    "    df_player['Year'] = i\n",
    "    df_coach['Year'] = i\n",
    "    df_players = pd.concat([df_players, df_player], ignore_index=True) #only get the dataframe\n",
    "    df_coaches = pd.concat([df_coaches, df_coach], ignore_index=True) #only last ten seasons   \n",
    "\n",
    "print(df_players.shape)\n",
    "print(df_coaches.shape)"
   ]
  },
  {
   "cell_type": "code",
   "execution_count": 3,
   "metadata": {
    "tags": []
   },
   "outputs": [
    {
     "output_type": "stream",
     "name": "stdout",
     "text": "(10, 9)\n"
    },
    {
     "output_type": "execute_result",
     "data": {
      "text/plain": "     Year   Lg               Champion              Runner-Up   Finals MVP  \\\n1  2019.0  NBA        Toronto Raptors  Golden State Warriors   K. Leonard   \n2  2018.0  NBA  Golden State Warriors    Cleveland Cavaliers    K. Durant   \n3  2017.0  NBA  Golden State Warriors    Cleveland Cavaliers    K. Durant   \n4  2016.0  NBA    Cleveland Cavaliers  Golden State Warriors     L. James   \n5  2015.0  NBA  Golden State Warriors    Cleveland Cavaliers  A. Iguodala   \n\n              Points         Rebounds             Assists        Win Shares  \n1   K. Leonard (732)   D. Green (223)      D. Green (187)  K. Leonard (4.9)  \n2     L. James (748)   D. Green (222)      L. James (198)    L. James (5.2)  \n3     L. James (591)    K. Love (191)      L. James (141)    L. James (4.3)  \n4  K. Thompson (582)   D. Green (228)  R. Westbrook (198)    L. James (4.7)  \n5     L. James (601)  D. Howard (238)      L. James (169)    S. Curry (3.9)  ",
      "text/html": "<div>\n<style scoped>\n    .dataframe tbody tr th:only-of-type {\n        vertical-align: middle;\n    }\n\n    .dataframe tbody tr th {\n        vertical-align: top;\n    }\n\n    .dataframe thead th {\n        text-align: right;\n    }\n</style>\n<table border=\"1\" class=\"dataframe\">\n  <thead>\n    <tr style=\"text-align: right;\">\n      <th></th>\n      <th>Year</th>\n      <th>Lg</th>\n      <th>Champion</th>\n      <th>Runner-Up</th>\n      <th>Finals MVP</th>\n      <th>Points</th>\n      <th>Rebounds</th>\n      <th>Assists</th>\n      <th>Win Shares</th>\n    </tr>\n  </thead>\n  <tbody>\n    <tr>\n      <th>1</th>\n      <td>2019.0</td>\n      <td>NBA</td>\n      <td>Toronto Raptors</td>\n      <td>Golden State Warriors</td>\n      <td>K. Leonard</td>\n      <td>K. Leonard (732)</td>\n      <td>D. Green (223)</td>\n      <td>D. Green (187)</td>\n      <td>K. Leonard (4.9)</td>\n    </tr>\n    <tr>\n      <th>2</th>\n      <td>2018.0</td>\n      <td>NBA</td>\n      <td>Golden State Warriors</td>\n      <td>Cleveland Cavaliers</td>\n      <td>K. Durant</td>\n      <td>L. James (748)</td>\n      <td>D. Green (222)</td>\n      <td>L. James (198)</td>\n      <td>L. James (5.2)</td>\n    </tr>\n    <tr>\n      <th>3</th>\n      <td>2017.0</td>\n      <td>NBA</td>\n      <td>Golden State Warriors</td>\n      <td>Cleveland Cavaliers</td>\n      <td>K. Durant</td>\n      <td>L. James (591)</td>\n      <td>K. Love (191)</td>\n      <td>L. James (141)</td>\n      <td>L. James (4.3)</td>\n    </tr>\n    <tr>\n      <th>4</th>\n      <td>2016.0</td>\n      <td>NBA</td>\n      <td>Cleveland Cavaliers</td>\n      <td>Golden State Warriors</td>\n      <td>L. James</td>\n      <td>K. Thompson (582)</td>\n      <td>D. Green (228)</td>\n      <td>R. Westbrook (198)</td>\n      <td>L. James (4.7)</td>\n    </tr>\n    <tr>\n      <th>5</th>\n      <td>2015.0</td>\n      <td>NBA</td>\n      <td>Golden State Warriors</td>\n      <td>Cleveland Cavaliers</td>\n      <td>A. Iguodala</td>\n      <td>L. James (601)</td>\n      <td>D. Howard (238)</td>\n      <td>L. James (169)</td>\n      <td>S. Curry (3.9)</td>\n    </tr>\n  </tbody>\n</table>\n</div>"
     },
     "metadata": {},
     "execution_count": 3
    }
   ],
   "source": [
    "#get data for the last ten champions (first table, first ten rows)\n",
    "champions = pd.read_html('https://www.basketball-reference.com/playoffs/', header=1)[0][1:11]\n",
    "del champions['Unnamed: 5']\n",
    "print(champions.shape)\n",
    "champions.head()"
   ]
  },
  {
   "cell_type": "markdown",
   "metadata": {},
   "source": [
    "### Players\n",
    "High count, but players switch teams and get traded. More concerned with coaches. After reviewing structure of players tables, the **Rk** variable that is just a count is removed because we can count players in a season by using the newly added year column which is more informative.\n",
    "\n",
    "### Coaches\n",
    "The count seems higher than what is expected. The above implies that on average 35 coaches had a job each season. However, that is a higher turnover rate. There might be some columns with header values in there...\n",
    "\n",
    "### Champions\n",
    "All of the features are categorical. Numerical features can be extracted to get the top points, rebounds, assists, and win shares for the players that postseason if needed. This will be done along with changing the year column from floats to integers. We can also remove the league column because all data here is NBA data."
   ]
  },
  {
   "cell_type": "code",
   "execution_count": 4,
   "metadata": {},
   "outputs": [
    {
     "output_type": "execute_result",
     "data": {
      "text/plain": "              Player Pos Age   Tm   G  GS    MP   FG   FGA   FG%  ...  ORB  \\\n0      Arron Afflalo  SG  24  DEN  82  75  27.1  3.3   7.1  .465  ...  0.7   \n1      Alexis Ajinça   C  21  CHA   6   0   5.0  0.8   1.7  .500  ...  0.2   \n2  LaMarcus Aldridge  PF  24  POR  78  78  37.5  7.4  15.0  .495  ...  2.5   \n3      Joe Alexander  SF  23  CHI   8   0   3.6  0.1   0.8  .167  ...  0.3   \n4        Malik Allen  PF  31  DEN  51   3   8.9  0.9   2.3  .397  ...  0.7   \n\n   DRB  TRB  AST  STL  BLK  TOV   PF   PTS  Year  \n0  2.4  3.1  1.7  0.6  0.4  0.9  2.7   8.8  2010  \n1  0.5  0.7  0.0  0.2  0.2  0.3  0.8   1.7  2010  \n2  5.6  8.0  2.1  0.9  0.6  1.3  3.0  17.9  2010  \n3  0.4  0.6  0.3  0.1  0.1  0.0  1.1   0.5  2010  \n4  0.9  1.6  0.3  0.2  0.1  0.4  1.3   2.1  2010  \n\n[5 rows x 30 columns]",
      "text/html": "<div>\n<style scoped>\n    .dataframe tbody tr th:only-of-type {\n        vertical-align: middle;\n    }\n\n    .dataframe tbody tr th {\n        vertical-align: top;\n    }\n\n    .dataframe thead th {\n        text-align: right;\n    }\n</style>\n<table border=\"1\" class=\"dataframe\">\n  <thead>\n    <tr style=\"text-align: right;\">\n      <th></th>\n      <th>Player</th>\n      <th>Pos</th>\n      <th>Age</th>\n      <th>Tm</th>\n      <th>G</th>\n      <th>GS</th>\n      <th>MP</th>\n      <th>FG</th>\n      <th>FGA</th>\n      <th>FG%</th>\n      <th>...</th>\n      <th>ORB</th>\n      <th>DRB</th>\n      <th>TRB</th>\n      <th>AST</th>\n      <th>STL</th>\n      <th>BLK</th>\n      <th>TOV</th>\n      <th>PF</th>\n      <th>PTS</th>\n      <th>Year</th>\n    </tr>\n  </thead>\n  <tbody>\n    <tr>\n      <th>0</th>\n      <td>Arron Afflalo</td>\n      <td>SG</td>\n      <td>24</td>\n      <td>DEN</td>\n      <td>82</td>\n      <td>75</td>\n      <td>27.1</td>\n      <td>3.3</td>\n      <td>7.1</td>\n      <td>.465</td>\n      <td>...</td>\n      <td>0.7</td>\n      <td>2.4</td>\n      <td>3.1</td>\n      <td>1.7</td>\n      <td>0.6</td>\n      <td>0.4</td>\n      <td>0.9</td>\n      <td>2.7</td>\n      <td>8.8</td>\n      <td>2010</td>\n    </tr>\n    <tr>\n      <th>1</th>\n      <td>Alexis Ajinça</td>\n      <td>C</td>\n      <td>21</td>\n      <td>CHA</td>\n      <td>6</td>\n      <td>0</td>\n      <td>5.0</td>\n      <td>0.8</td>\n      <td>1.7</td>\n      <td>.500</td>\n      <td>...</td>\n      <td>0.2</td>\n      <td>0.5</td>\n      <td>0.7</td>\n      <td>0.0</td>\n      <td>0.2</td>\n      <td>0.2</td>\n      <td>0.3</td>\n      <td>0.8</td>\n      <td>1.7</td>\n      <td>2010</td>\n    </tr>\n    <tr>\n      <th>2</th>\n      <td>LaMarcus Aldridge</td>\n      <td>PF</td>\n      <td>24</td>\n      <td>POR</td>\n      <td>78</td>\n      <td>78</td>\n      <td>37.5</td>\n      <td>7.4</td>\n      <td>15.0</td>\n      <td>.495</td>\n      <td>...</td>\n      <td>2.5</td>\n      <td>5.6</td>\n      <td>8.0</td>\n      <td>2.1</td>\n      <td>0.9</td>\n      <td>0.6</td>\n      <td>1.3</td>\n      <td>3.0</td>\n      <td>17.9</td>\n      <td>2010</td>\n    </tr>\n    <tr>\n      <th>3</th>\n      <td>Joe Alexander</td>\n      <td>SF</td>\n      <td>23</td>\n      <td>CHI</td>\n      <td>8</td>\n      <td>0</td>\n      <td>3.6</td>\n      <td>0.1</td>\n      <td>0.8</td>\n      <td>.167</td>\n      <td>...</td>\n      <td>0.3</td>\n      <td>0.4</td>\n      <td>0.6</td>\n      <td>0.3</td>\n      <td>0.1</td>\n      <td>0.1</td>\n      <td>0.0</td>\n      <td>1.1</td>\n      <td>0.5</td>\n      <td>2010</td>\n    </tr>\n    <tr>\n      <th>4</th>\n      <td>Malik Allen</td>\n      <td>PF</td>\n      <td>31</td>\n      <td>DEN</td>\n      <td>51</td>\n      <td>3</td>\n      <td>8.9</td>\n      <td>0.9</td>\n      <td>2.3</td>\n      <td>.397</td>\n      <td>...</td>\n      <td>0.7</td>\n      <td>0.9</td>\n      <td>1.6</td>\n      <td>0.3</td>\n      <td>0.2</td>\n      <td>0.1</td>\n      <td>0.4</td>\n      <td>1.3</td>\n      <td>2.1</td>\n      <td>2010</td>\n    </tr>\n  </tbody>\n</table>\n<p>5 rows × 30 columns</p>\n</div>"
     },
     "metadata": {},
     "execution_count": 4
    }
   ],
   "source": [
    "#Players table\n",
    "del df_players['Rk']\n",
    "df_players.head()"
   ]
  },
  {
   "cell_type": "code",
   "execution_count": 5,
   "metadata": {},
   "outputs": [
    {
     "output_type": "execute_result",
     "data": {
      "text/plain": "     Unnamed: 0 Unnamed: 1  Unnamed: 2    Seasons Seasons.1  Unnamed: 5  \\\n0           NaN        NaN         NaN  w/ Franch   Overall         NaN   \n1         Coach         Tm         NaN          #         #         NaN   \n2  Mike Woodson        ATL         NaN          6         6         NaN   \n3    Doc Rivers        BOS         NaN          6        11         NaN   \n4   Larry Brown        CHA         NaN          2        29         NaN   \n\n   Regular Season Regular Season.1 Regular Season.2 Regular Season.3  ...  \\\n0  Current Season   Current Season   Current Season     w/ Franchise  ...   \n1               G                W                L                G  ...   \n2              82               53               29              492  ...   \n3              82               50               32              492  ...   \n4              82               44               38              164  ...   \n\n         Playoffs      Playoffs.1      Playoffs.2    Playoffs.3    Playoffs.4  \\\n0  Current Season  Current Season  Current Season  w/ Franchise  w/ Franchise   \n1               G               W               L             G             W   \n2              11               4               7            29            11   \n3              24              15               9            71            41   \n4               4               0               4             4             0   \n\n     Playoffs.5  Playoffs.6 Playoffs.7 Playoffs.8  Year  \n0  w/ Franchise      Career     Career     Career  2010  \n1             L           G          W          L  2010  \n2            18          29         11         18  2010  \n3            30          86         46         40  2010  \n4             4         235        120        115  2010  \n\n[5 rows x 27 columns]",
      "text/html": "<div>\n<style scoped>\n    .dataframe tbody tr th:only-of-type {\n        vertical-align: middle;\n    }\n\n    .dataframe tbody tr th {\n        vertical-align: top;\n    }\n\n    .dataframe thead th {\n        text-align: right;\n    }\n</style>\n<table border=\"1\" class=\"dataframe\">\n  <thead>\n    <tr style=\"text-align: right;\">\n      <th></th>\n      <th>Unnamed: 0</th>\n      <th>Unnamed: 1</th>\n      <th>Unnamed: 2</th>\n      <th>Seasons</th>\n      <th>Seasons.1</th>\n      <th>Unnamed: 5</th>\n      <th>Regular Season</th>\n      <th>Regular Season.1</th>\n      <th>Regular Season.2</th>\n      <th>Regular Season.3</th>\n      <th>...</th>\n      <th>Playoffs</th>\n      <th>Playoffs.1</th>\n      <th>Playoffs.2</th>\n      <th>Playoffs.3</th>\n      <th>Playoffs.4</th>\n      <th>Playoffs.5</th>\n      <th>Playoffs.6</th>\n      <th>Playoffs.7</th>\n      <th>Playoffs.8</th>\n      <th>Year</th>\n    </tr>\n  </thead>\n  <tbody>\n    <tr>\n      <th>0</th>\n      <td>NaN</td>\n      <td>NaN</td>\n      <td>NaN</td>\n      <td>w/ Franch</td>\n      <td>Overall</td>\n      <td>NaN</td>\n      <td>Current Season</td>\n      <td>Current Season</td>\n      <td>Current Season</td>\n      <td>w/ Franchise</td>\n      <td>...</td>\n      <td>Current Season</td>\n      <td>Current Season</td>\n      <td>Current Season</td>\n      <td>w/ Franchise</td>\n      <td>w/ Franchise</td>\n      <td>w/ Franchise</td>\n      <td>Career</td>\n      <td>Career</td>\n      <td>Career</td>\n      <td>2010</td>\n    </tr>\n    <tr>\n      <th>1</th>\n      <td>Coach</td>\n      <td>Tm</td>\n      <td>NaN</td>\n      <td>#</td>\n      <td>#</td>\n      <td>NaN</td>\n      <td>G</td>\n      <td>W</td>\n      <td>L</td>\n      <td>G</td>\n      <td>...</td>\n      <td>G</td>\n      <td>W</td>\n      <td>L</td>\n      <td>G</td>\n      <td>W</td>\n      <td>L</td>\n      <td>G</td>\n      <td>W</td>\n      <td>L</td>\n      <td>2010</td>\n    </tr>\n    <tr>\n      <th>2</th>\n      <td>Mike Woodson</td>\n      <td>ATL</td>\n      <td>NaN</td>\n      <td>6</td>\n      <td>6</td>\n      <td>NaN</td>\n      <td>82</td>\n      <td>53</td>\n      <td>29</td>\n      <td>492</td>\n      <td>...</td>\n      <td>11</td>\n      <td>4</td>\n      <td>7</td>\n      <td>29</td>\n      <td>11</td>\n      <td>18</td>\n      <td>29</td>\n      <td>11</td>\n      <td>18</td>\n      <td>2010</td>\n    </tr>\n    <tr>\n      <th>3</th>\n      <td>Doc Rivers</td>\n      <td>BOS</td>\n      <td>NaN</td>\n      <td>6</td>\n      <td>11</td>\n      <td>NaN</td>\n      <td>82</td>\n      <td>50</td>\n      <td>32</td>\n      <td>492</td>\n      <td>...</td>\n      <td>24</td>\n      <td>15</td>\n      <td>9</td>\n      <td>71</td>\n      <td>41</td>\n      <td>30</td>\n      <td>86</td>\n      <td>46</td>\n      <td>40</td>\n      <td>2010</td>\n    </tr>\n    <tr>\n      <th>4</th>\n      <td>Larry Brown</td>\n      <td>CHA</td>\n      <td>NaN</td>\n      <td>2</td>\n      <td>29</td>\n      <td>NaN</td>\n      <td>82</td>\n      <td>44</td>\n      <td>38</td>\n      <td>164</td>\n      <td>...</td>\n      <td>4</td>\n      <td>0</td>\n      <td>4</td>\n      <td>4</td>\n      <td>0</td>\n      <td>4</td>\n      <td>235</td>\n      <td>120</td>\n      <td>115</td>\n      <td>2010</td>\n    </tr>\n  </tbody>\n</table>\n<p>5 rows × 27 columns</p>\n</div>"
     },
     "metadata": {},
     "execution_count": 5
    }
   ],
   "source": [
    "#Coaches table\n",
    "df_coaches.head()"
   ]
  },
  {
   "cell_type": "code",
   "execution_count": 6,
   "metadata": {
    "tags": []
   },
   "outputs": [
    {
     "output_type": "stream",
     "name": "stdout",
     "text": "[[nan nan nan 'w/ Franch' 'Overall' nan 'Current Season' 'Current Season'\n  'Current Season' 'w/ Franchise' 'w/ Franchise' 'w/ Franchise' 'Career'\n  'Career' 'Career' 'Career' nan 'Current Season' 'Current Season'\n  'Current Season' 'w/ Franchise' 'w/ Franchise' 'w/ Franchise' 'Career'\n  'Career' 'Career' 2010]\n ['Coach' 'Tm' nan '#' '#' nan 'G' 'W' 'L' 'G' 'W' 'L' 'G' 'W' 'L' 'W%'\n  nan 'G' 'W' 'L' 'G' 'W' 'L' 'G' 'W' 'L' 2010]]\n"
    }
   ],
   "source": [
    "#seeing how far in titles that are not values go into the dataframe before removing\n",
    "print(df_coaches.iloc[0:2].values)"
   ]
  },
  {
   "cell_type": "markdown",
   "metadata": {},
   "source": [
    "###   Labels\n",
    "The coaching table needs to be transformed. There is data with two distinctions:\n",
    "- Regular and playoff seasons -> key will be (R, P) e.g. Regular season wins = R-Wins\n",
    "- Current and franchise count seasons -> (C, F)  e.g. Current season, regular season wins = C-Wins\n",
    "\n",
    "Key:\n",
    "- Current season, regular season = **CR**  \n",
    "- Current season, playoffs = **CP**  \n",
    "- Franchise, regular season = **FR**  \n",
    "- Franchise, playoff = **FP**  \n",
    "- Career regular season (experience) = **Car** \n",
    "- Career playoffs = **Car.P**\n",
    "\n",
    "Index made below is based on header deciphered seen above"
   ]
  },
  {
   "cell_type": "code",
   "execution_count": 7,
   "metadata": {},
   "outputs": [],
   "source": [
    "#renaming remaining useful columns after review and key definitions\n",
    "cols = ['Coach', 'Team' ,'F-Seasons', 'Car-Seasons', 'CR-G', 'CR-W', 'CR-L', 'FR-G', 'FR-W', 'FR-L', 'Car-G', 'Car-W', 'Car-L', 'Car-W%', 'CP-G', 'CP-W', 'CP-L', 'FP-G', 'FP-W', 'FP-L', 'Car.P-G', 'Car.P-W', 'Car.P-L']"
   ]
  },
  {
   "cell_type": "code",
   "execution_count": 8,
   "metadata": {},
   "outputs": [
    {
     "output_type": "execute_result",
     "data": {
      "text/plain": "(332, 24)"
     },
     "metadata": {},
     "execution_count": 8
    }
   ],
   "source": [
    "#get coaching data and transform each season's table before appending\n",
    "df_coaches = pd.DataFrame()\n",
    "for i in range(2010, 2020):\n",
    "    coaches = 'https://www.basketball-reference.com/leagues/NBA_'+str(i)+'_coaches.html#NBA_coaches::none'\n",
    "    df_coach = pd.read_html(coaches, header=0)[0]\n",
    "    #remove empty columns (html tag extra columns carried over)\n",
    "    del df_coach['Unnamed: 2'], df_coach['Unnamed: 5'], df_coach['Unnamed: 16']\n",
    "    #rename columns and delete rows with names in them before appending to larger dataframe\n",
    "    df_coach.columns = cols \n",
    "    df_coach = df_coach[2:]     \n",
    "    df_coach['Year'] = i\n",
    "    df_coaches = pd.concat([df_coaches, df_coach], ignore_index=True)\n",
    "\n",
    "df_coaches.shape"
   ]
  },
  {
   "cell_type": "code",
   "execution_count": 9,
   "metadata": {
    "tags": []
   },
   "outputs": [
    {
     "output_type": "execute_result",
     "data": {
      "text/plain": "             Coach Team F-Seasons Car-Seasons CR-G CR-W CR-L FR-G FR-W FR-L  \\\n0     Mike Woodson  ATL         6           6   82   53   29  492  206  286   \n1       Doc Rivers  BOS         6          11   82   50   32  492  280  212   \n2      Larry Brown  CHA         2          29   82   44   38  164   79   85   \n3  Vinny Del Negro  CHI         2           2   82   41   41  164   82   82   \n4       Mike Brown  CLE         5           5   82   61   21  410  272  138   \n\n   ... CP-G CP-W CP-L FP-G FP-W FP-L Car.P-G Car.P-W Car.P-L  Year  \n0  ...   11    4    7   29   11   18      29      11      18  2010  \n1  ...   24   15    9   71   41   30      86      46      40  2010  \n2  ...    4    0    4    4    0    4     235     120     115  2010  \n3  ...    5    1    4   12    4    8      12       4       8  2010  \n4  ...   11    6    5   71   42   29      71      42      29  2010  \n\n[5 rows x 24 columns]",
      "text/html": "<div>\n<style scoped>\n    .dataframe tbody tr th:only-of-type {\n        vertical-align: middle;\n    }\n\n    .dataframe tbody tr th {\n        vertical-align: top;\n    }\n\n    .dataframe thead th {\n        text-align: right;\n    }\n</style>\n<table border=\"1\" class=\"dataframe\">\n  <thead>\n    <tr style=\"text-align: right;\">\n      <th></th>\n      <th>Coach</th>\n      <th>Team</th>\n      <th>F-Seasons</th>\n      <th>Car-Seasons</th>\n      <th>CR-G</th>\n      <th>CR-W</th>\n      <th>CR-L</th>\n      <th>FR-G</th>\n      <th>FR-W</th>\n      <th>FR-L</th>\n      <th>...</th>\n      <th>CP-G</th>\n      <th>CP-W</th>\n      <th>CP-L</th>\n      <th>FP-G</th>\n      <th>FP-W</th>\n      <th>FP-L</th>\n      <th>Car.P-G</th>\n      <th>Car.P-W</th>\n      <th>Car.P-L</th>\n      <th>Year</th>\n    </tr>\n  </thead>\n  <tbody>\n    <tr>\n      <th>0</th>\n      <td>Mike Woodson</td>\n      <td>ATL</td>\n      <td>6</td>\n      <td>6</td>\n      <td>82</td>\n      <td>53</td>\n      <td>29</td>\n      <td>492</td>\n      <td>206</td>\n      <td>286</td>\n      <td>...</td>\n      <td>11</td>\n      <td>4</td>\n      <td>7</td>\n      <td>29</td>\n      <td>11</td>\n      <td>18</td>\n      <td>29</td>\n      <td>11</td>\n      <td>18</td>\n      <td>2010</td>\n    </tr>\n    <tr>\n      <th>1</th>\n      <td>Doc Rivers</td>\n      <td>BOS</td>\n      <td>6</td>\n      <td>11</td>\n      <td>82</td>\n      <td>50</td>\n      <td>32</td>\n      <td>492</td>\n      <td>280</td>\n      <td>212</td>\n      <td>...</td>\n      <td>24</td>\n      <td>15</td>\n      <td>9</td>\n      <td>71</td>\n      <td>41</td>\n      <td>30</td>\n      <td>86</td>\n      <td>46</td>\n      <td>40</td>\n      <td>2010</td>\n    </tr>\n    <tr>\n      <th>2</th>\n      <td>Larry Brown</td>\n      <td>CHA</td>\n      <td>2</td>\n      <td>29</td>\n      <td>82</td>\n      <td>44</td>\n      <td>38</td>\n      <td>164</td>\n      <td>79</td>\n      <td>85</td>\n      <td>...</td>\n      <td>4</td>\n      <td>0</td>\n      <td>4</td>\n      <td>4</td>\n      <td>0</td>\n      <td>4</td>\n      <td>235</td>\n      <td>120</td>\n      <td>115</td>\n      <td>2010</td>\n    </tr>\n    <tr>\n      <th>3</th>\n      <td>Vinny Del Negro</td>\n      <td>CHI</td>\n      <td>2</td>\n      <td>2</td>\n      <td>82</td>\n      <td>41</td>\n      <td>41</td>\n      <td>164</td>\n      <td>82</td>\n      <td>82</td>\n      <td>...</td>\n      <td>5</td>\n      <td>1</td>\n      <td>4</td>\n      <td>12</td>\n      <td>4</td>\n      <td>8</td>\n      <td>12</td>\n      <td>4</td>\n      <td>8</td>\n      <td>2010</td>\n    </tr>\n    <tr>\n      <th>4</th>\n      <td>Mike Brown</td>\n      <td>CLE</td>\n      <td>5</td>\n      <td>5</td>\n      <td>82</td>\n      <td>61</td>\n      <td>21</td>\n      <td>410</td>\n      <td>272</td>\n      <td>138</td>\n      <td>...</td>\n      <td>11</td>\n      <td>6</td>\n      <td>5</td>\n      <td>71</td>\n      <td>42</td>\n      <td>29</td>\n      <td>71</td>\n      <td>42</td>\n      <td>29</td>\n      <td>2010</td>\n    </tr>\n  </tbody>\n</table>\n<p>5 rows × 24 columns</p>\n</div>"
     },
     "metadata": {},
     "execution_count": 9
    }
   ],
   "source": [
    "df_coaches.head()"
   ]
  },
  {
   "cell_type": "code",
   "execution_count": 10,
   "metadata": {},
   "outputs": [
    {
     "output_type": "execute_result",
     "data": {
      "text/plain": "   Year               Champion              Runner-Up   Finals MVP  \\\n1  2019        Toronto Raptors  Golden State Warriors   K. Leonard   \n2  2018  Golden State Warriors    Cleveland Cavaliers    K. Durant   \n3  2017  Golden State Warriors    Cleveland Cavaliers    K. Durant   \n4  2016    Cleveland Cavaliers  Golden State Warriors     L. James   \n5  2015  Golden State Warriors    Cleveland Cavaliers  A. Iguodala   \n\n              Points         Rebounds             Assists        Win Shares  \n1   K. Leonard (732)   D. Green (223)      D. Green (187)  K. Leonard (4.9)  \n2     L. James (748)   D. Green (222)      L. James (198)    L. James (5.2)  \n3     L. James (591)    K. Love (191)      L. James (141)    L. James (4.3)  \n4  K. Thompson (582)   D. Green (228)  R. Westbrook (198)    L. James (4.7)  \n5     L. James (601)  D. Howard (238)      L. James (169)    S. Curry (3.9)  ",
      "text/html": "<div>\n<style scoped>\n    .dataframe tbody tr th:only-of-type {\n        vertical-align: middle;\n    }\n\n    .dataframe tbody tr th {\n        vertical-align: top;\n    }\n\n    .dataframe thead th {\n        text-align: right;\n    }\n</style>\n<table border=\"1\" class=\"dataframe\">\n  <thead>\n    <tr style=\"text-align: right;\">\n      <th></th>\n      <th>Year</th>\n      <th>Champion</th>\n      <th>Runner-Up</th>\n      <th>Finals MVP</th>\n      <th>Points</th>\n      <th>Rebounds</th>\n      <th>Assists</th>\n      <th>Win Shares</th>\n    </tr>\n  </thead>\n  <tbody>\n    <tr>\n      <th>1</th>\n      <td>2019</td>\n      <td>Toronto Raptors</td>\n      <td>Golden State Warriors</td>\n      <td>K. Leonard</td>\n      <td>K. Leonard (732)</td>\n      <td>D. Green (223)</td>\n      <td>D. Green (187)</td>\n      <td>K. Leonard (4.9)</td>\n    </tr>\n    <tr>\n      <th>2</th>\n      <td>2018</td>\n      <td>Golden State Warriors</td>\n      <td>Cleveland Cavaliers</td>\n      <td>K. Durant</td>\n      <td>L. James (748)</td>\n      <td>D. Green (222)</td>\n      <td>L. James (198)</td>\n      <td>L. James (5.2)</td>\n    </tr>\n    <tr>\n      <th>3</th>\n      <td>2017</td>\n      <td>Golden State Warriors</td>\n      <td>Cleveland Cavaliers</td>\n      <td>K. Durant</td>\n      <td>L. James (591)</td>\n      <td>K. Love (191)</td>\n      <td>L. James (141)</td>\n      <td>L. James (4.3)</td>\n    </tr>\n    <tr>\n      <th>4</th>\n      <td>2016</td>\n      <td>Cleveland Cavaliers</td>\n      <td>Golden State Warriors</td>\n      <td>L. James</td>\n      <td>K. Thompson (582)</td>\n      <td>D. Green (228)</td>\n      <td>R. Westbrook (198)</td>\n      <td>L. James (4.7)</td>\n    </tr>\n    <tr>\n      <th>5</th>\n      <td>2015</td>\n      <td>Golden State Warriors</td>\n      <td>Cleveland Cavaliers</td>\n      <td>A. Iguodala</td>\n      <td>L. James (601)</td>\n      <td>D. Howard (238)</td>\n      <td>L. James (169)</td>\n      <td>S. Curry (3.9)</td>\n    </tr>\n  </tbody>\n</table>\n</div>"
     },
     "metadata": {},
     "execution_count": 10
    }
   ],
   "source": [
    "#Champions table\n",
    "champions['Year'] = champions['Year'].apply(lambda x: int(x)) #years into integers\n",
    "del champions['Lg'] #delete league name col\n",
    "champions.head()"
   ]
  },
  {
   "cell_type": "code",
   "execution_count": 11,
   "metadata": {},
   "outputs": [],
   "source": [
    "#extract top values from points, rebounds, assists, and win shares\n",
    "def extract_values(text):\n",
    "    value = text.split('(')[1]\n",
    "    value = value.split(')')[0]\n",
    "    try: fin_value = int(value)\n",
    "    except: fin_value = float(value)\n",
    "    return fin_value"
   ]
  },
  {
   "cell_type": "code",
   "execution_count": 12,
   "metadata": {},
   "outputs": [],
   "source": [
    "#rename columns\n",
    "champions = champions.rename(columns = {'Points':'Top Scorer', 'Rebounds':'Top Rebr', 'Assists':'Top Asst', \n",
    "'Win Shares': 'WS Lead'})\n",
    "#extract top performer values\n",
    "champions['Points'] = champions['Top Scorer'].apply(lambda x: extract_values(x))\n",
    "champions['Rebounds'] = champions['Top Rebr'].apply(lambda x: extract_values(x))\n",
    "champions['Assists'] = champions['Top Asst'].apply(lambda x: extract_values(x))\n",
    "champions['Win Shares'] = champions['WS Lead'].apply(lambda x: extract_values(x))"
   ]
  },
  {
   "cell_type": "code",
   "execution_count": 13,
   "metadata": {},
   "outputs": [
    {
     "output_type": "execute_result",
     "data": {
      "text/plain": "   Year               Champion              Runner-Up   Finals MVP  \\\n1  2019        Toronto Raptors  Golden State Warriors   K. Leonard   \n2  2018  Golden State Warriors    Cleveland Cavaliers    K. Durant   \n3  2017  Golden State Warriors    Cleveland Cavaliers    K. Durant   \n4  2016    Cleveland Cavaliers  Golden State Warriors     L. James   \n5  2015  Golden State Warriors    Cleveland Cavaliers  A. Iguodala   \n\n          Top Scorer         Top Rebr            Top Asst           WS Lead  \\\n1   K. Leonard (732)   D. Green (223)      D. Green (187)  K. Leonard (4.9)   \n2     L. James (748)   D. Green (222)      L. James (198)    L. James (5.2)   \n3     L. James (591)    K. Love (191)      L. James (141)    L. James (4.3)   \n4  K. Thompson (582)   D. Green (228)  R. Westbrook (198)    L. James (4.7)   \n5     L. James (601)  D. Howard (238)      L. James (169)    S. Curry (3.9)   \n\n   Points  Rebounds  Assists  Win Shares  \n1     732       223      187         4.9  \n2     748       222      198         5.2  \n3     591       191      141         4.3  \n4     582       228      198         4.7  \n5     601       238      169         3.9  ",
      "text/html": "<div>\n<style scoped>\n    .dataframe tbody tr th:only-of-type {\n        vertical-align: middle;\n    }\n\n    .dataframe tbody tr th {\n        vertical-align: top;\n    }\n\n    .dataframe thead th {\n        text-align: right;\n    }\n</style>\n<table border=\"1\" class=\"dataframe\">\n  <thead>\n    <tr style=\"text-align: right;\">\n      <th></th>\n      <th>Year</th>\n      <th>Champion</th>\n      <th>Runner-Up</th>\n      <th>Finals MVP</th>\n      <th>Top Scorer</th>\n      <th>Top Rebr</th>\n      <th>Top Asst</th>\n      <th>WS Lead</th>\n      <th>Points</th>\n      <th>Rebounds</th>\n      <th>Assists</th>\n      <th>Win Shares</th>\n    </tr>\n  </thead>\n  <tbody>\n    <tr>\n      <th>1</th>\n      <td>2019</td>\n      <td>Toronto Raptors</td>\n      <td>Golden State Warriors</td>\n      <td>K. Leonard</td>\n      <td>K. Leonard (732)</td>\n      <td>D. Green (223)</td>\n      <td>D. Green (187)</td>\n      <td>K. Leonard (4.9)</td>\n      <td>732</td>\n      <td>223</td>\n      <td>187</td>\n      <td>4.9</td>\n    </tr>\n    <tr>\n      <th>2</th>\n      <td>2018</td>\n      <td>Golden State Warriors</td>\n      <td>Cleveland Cavaliers</td>\n      <td>K. Durant</td>\n      <td>L. James (748)</td>\n      <td>D. Green (222)</td>\n      <td>L. James (198)</td>\n      <td>L. James (5.2)</td>\n      <td>748</td>\n      <td>222</td>\n      <td>198</td>\n      <td>5.2</td>\n    </tr>\n    <tr>\n      <th>3</th>\n      <td>2017</td>\n      <td>Golden State Warriors</td>\n      <td>Cleveland Cavaliers</td>\n      <td>K. Durant</td>\n      <td>L. James (591)</td>\n      <td>K. Love (191)</td>\n      <td>L. James (141)</td>\n      <td>L. James (4.3)</td>\n      <td>591</td>\n      <td>191</td>\n      <td>141</td>\n      <td>4.3</td>\n    </tr>\n    <tr>\n      <th>4</th>\n      <td>2016</td>\n      <td>Cleveland Cavaliers</td>\n      <td>Golden State Warriors</td>\n      <td>L. James</td>\n      <td>K. Thompson (582)</td>\n      <td>D. Green (228)</td>\n      <td>R. Westbrook (198)</td>\n      <td>L. James (4.7)</td>\n      <td>582</td>\n      <td>228</td>\n      <td>198</td>\n      <td>4.7</td>\n    </tr>\n    <tr>\n      <th>5</th>\n      <td>2015</td>\n      <td>Golden State Warriors</td>\n      <td>Cleveland Cavaliers</td>\n      <td>A. Iguodala</td>\n      <td>L. James (601)</td>\n      <td>D. Howard (238)</td>\n      <td>L. James (169)</td>\n      <td>S. Curry (3.9)</td>\n      <td>601</td>\n      <td>238</td>\n      <td>169</td>\n      <td>3.9</td>\n    </tr>\n  </tbody>\n</table>\n</div>"
     },
     "metadata": {},
     "execution_count": 13
    }
   ],
   "source": [
    "champions.head()"
   ]
  },
  {
   "cell_type": "code",
   "execution_count": 14,
   "metadata": {},
   "outputs": [
    {
     "output_type": "execute_result",
     "data": {
      "text/plain": "34"
     },
     "metadata": {},
     "execution_count": 14
    }
   ],
   "source": [
    "#Find missing values\n",
    "#need to create a dictionary for team names (some franchise names and abbreviations changed)\n",
    "team_abbr = sorted(list(df_players.Tm.unique()))\n",
    "team_abbr.remove('Tm')\n",
    "len(team_abbr)"
   ]
  },
  {
   "cell_type": "code",
   "execution_count": 15,
   "metadata": {},
   "outputs": [
    {
     "output_type": "execute_result",
     "data": {
      "text/plain": "   Key          Franchise\n0  ATL      Atlanta Hawks\n1  BKN      Brooklyn Nets\n2  BOS     Boston Celtics\n3  CHA  Charlotte Hornets\n4  CHI      Chicago Bulls",
      "text/html": "<div>\n<style scoped>\n    .dataframe tbody tr th:only-of-type {\n        vertical-align: middle;\n    }\n\n    .dataframe tbody tr th {\n        vertical-align: top;\n    }\n\n    .dataframe thead th {\n        text-align: right;\n    }\n</style>\n<table border=\"1\" class=\"dataframe\">\n  <thead>\n    <tr style=\"text-align: right;\">\n      <th></th>\n      <th>Key</th>\n      <th>Franchise</th>\n    </tr>\n  </thead>\n  <tbody>\n    <tr>\n      <th>0</th>\n      <td>ATL</td>\n      <td>Atlanta Hawks</td>\n    </tr>\n    <tr>\n      <th>1</th>\n      <td>BKN</td>\n      <td>Brooklyn Nets</td>\n    </tr>\n    <tr>\n      <th>2</th>\n      <td>BOS</td>\n      <td>Boston Celtics</td>\n    </tr>\n    <tr>\n      <th>3</th>\n      <td>CHA</td>\n      <td>Charlotte Hornets</td>\n    </tr>\n    <tr>\n      <th>4</th>\n      <td>CHI</td>\n      <td>Chicago Bulls</td>\n    </tr>\n  </tbody>\n</table>\n</div>"
     },
     "metadata": {},
     "execution_count": 15
    }
   ],
   "source": [
    "#team abbreviation keys and values\n",
    "team_names = pd.read_html('https://en.wikipedia.org/wiki/wikipedia:WikiProject_National_Basketball_Association/National_Basketball_Association_team_abbreviations', header=0)[0]\n",
    "team_names = team_names.rename(columns={'Abbreviation/Acronym': 'Key'})\n",
    "team_names.head()"
   ]
  },
  {
   "cell_type": "code",
   "execution_count": 16,
   "metadata": {
    "tags": []
   },
   "outputs": [
    {
     "output_type": "stream",
     "name": "stdout",
     "text": "30\n"
    }
   ],
   "source": [
    "print(len(team_names))"
   ]
  },
  {
   "cell_type": "code",
   "execution_count": 17,
   "metadata": {
    "tags": []
   },
   "outputs": [
    {
     "output_type": "stream",
     "name": "stdout",
     "text": "['BRK', 'CHO', 'NJN', 'NOH', 'PHO', 'TOT']\n"
    }
   ],
   "source": [
    "#From the above, four teams had a change in the last ten years so that difference needs to be accounted for\n",
    "missing = [team for team in team_abbr if team not in list(team_names.Key.values)]\n",
    "\n",
    "print(missing)\n",
    "#some names are already there, some new\n",
    "#TOT - Total (for players who played for multiple teams in a season)\n",
    "#CHO - Charlotte Hornets\n",
    "#BRK - Brooklyn Nets\n",
    "#NJN - New Jersey Nets\n",
    "#PHO - Phoenix Suns\n",
    "#NOH - New Orleans Hornets\n",
    "\n",
    "#add the other names to teams df to work as a dictionary\n",
    "missing_names = ['Brooklyn Nets', 'Charlotte Hornets', 'New Jersey Nets', 'New Orleans Hornets', 'Phoenix Suns', 'Total Averages']\n",
    "size = len(team_names) + len(missing)\n",
    "\n",
    "for i, key, value in zip(range(len(team_names), size), missing, missing_names):\n",
    "    team_names.loc[i] = [key, value]"
   ]
  },
  {
   "cell_type": "code",
   "execution_count": 18,
   "metadata": {},
   "outputs": [
    {
     "output_type": "execute_result",
     "data": {
      "text/plain": "    Key            Franchise\n31  CHO    Charlotte Hornets\n32  NJN      New Jersey Nets\n33  NOH  New Orleans Hornets\n34  PHO         Phoenix Suns\n35  TOT       Total Averages",
      "text/html": "<div>\n<style scoped>\n    .dataframe tbody tr th:only-of-type {\n        vertical-align: middle;\n    }\n\n    .dataframe tbody tr th {\n        vertical-align: top;\n    }\n\n    .dataframe thead th {\n        text-align: right;\n    }\n</style>\n<table border=\"1\" class=\"dataframe\">\n  <thead>\n    <tr style=\"text-align: right;\">\n      <th></th>\n      <th>Key</th>\n      <th>Franchise</th>\n    </tr>\n  </thead>\n  <tbody>\n    <tr>\n      <th>31</th>\n      <td>CHO</td>\n      <td>Charlotte Hornets</td>\n    </tr>\n    <tr>\n      <th>32</th>\n      <td>NJN</td>\n      <td>New Jersey Nets</td>\n    </tr>\n    <tr>\n      <th>33</th>\n      <td>NOH</td>\n      <td>New Orleans Hornets</td>\n    </tr>\n    <tr>\n      <th>34</th>\n      <td>PHO</td>\n      <td>Phoenix Suns</td>\n    </tr>\n    <tr>\n      <th>35</th>\n      <td>TOT</td>\n      <td>Total Averages</td>\n    </tr>\n  </tbody>\n</table>\n</div>"
     },
     "metadata": {},
     "execution_count": 18
    }
   ],
   "source": [
    "team_names.tail() #appears all have been added in correctly"
   ]
  },
  {
   "cell_type": "markdown",
   "metadata": {},
   "source": [
    "Combine the dataframes into one denormalized table including:\n",
    "- Add an indicator of the team's status of champion (1), runner-up (2), or no finals appearance (0) to all players on the players table \n",
    "- To do this, need to connect the champions table to the teams one for the key"
   ]
  },
  {
   "cell_type": "code",
   "execution_count": 19,
   "metadata": {},
   "outputs": [],
   "source": [
    "#merge the team-abbreviations for winner and runner-up to the team name\n",
    "champ_data = champions.copy()\n",
    "team_merge = team_names.copy()\n",
    "team_merge['Champion'] = team_merge['Franchise']\n",
    "team_merge['Runner-Up'] = team_merge['Franchise']\n",
    "\n",
    "champ_data = pd.merge(champ_data, team_merge[['Key', 'Champion']], on=['Champion'])\n",
    "champ_data = pd.merge(champ_data, team_merge[['Key', 'Runner-Up']], on=['Runner-Up'])\n",
    "champ_data['Champ-Abbr'] = champ_data['Key_x']\n",
    "champ_data['Runner-Up-Abbr'] = champ_data['Key_y']\n",
    "del champ_data['Key_x'], champ_data['Key_y']"
   ]
  },
  {
   "cell_type": "code",
   "execution_count": 20,
   "metadata": {},
   "outputs": [
    {
     "output_type": "execute_result",
     "data": {
      "text/plain": "   Year               Champion              Runner-Up   Finals MVP  \\\n0  2019        Toronto Raptors  Golden State Warriors   K. Leonard   \n1  2018  Golden State Warriors    Cleveland Cavaliers    K. Durant   \n2  2017  Golden State Warriors    Cleveland Cavaliers    K. Durant   \n3  2016    Cleveland Cavaliers  Golden State Warriors     L. James   \n4  2015  Golden State Warriors    Cleveland Cavaliers  A. Iguodala   \n\n          Top Scorer         Top Rebr            Top Asst           WS Lead  \\\n0   K. Leonard (732)   D. Green (223)      D. Green (187)  K. Leonard (4.9)   \n1     L. James (748)   D. Green (222)      L. James (198)    L. James (5.2)   \n2     L. James (591)    K. Love (191)      L. James (141)    L. James (4.3)   \n3  K. Thompson (582)   D. Green (228)  R. Westbrook (198)    L. James (4.7)   \n4     L. James (601)  D. Howard (238)      L. James (169)    S. Curry (3.9)   \n\n   Points  Rebounds  Assists  Win Shares Champ-Abbr Runner-Up-Abbr  \n0     732       223      187         4.9        TOR            GSW  \n1     748       222      198         5.2        GSW            CLE  \n2     591       191      141         4.3        GSW            CLE  \n3     582       228      198         4.7        CLE            GSW  \n4     601       238      169         3.9        GSW            CLE  ",
      "text/html": "<div>\n<style scoped>\n    .dataframe tbody tr th:only-of-type {\n        vertical-align: middle;\n    }\n\n    .dataframe tbody tr th {\n        vertical-align: top;\n    }\n\n    .dataframe thead th {\n        text-align: right;\n    }\n</style>\n<table border=\"1\" class=\"dataframe\">\n  <thead>\n    <tr style=\"text-align: right;\">\n      <th></th>\n      <th>Year</th>\n      <th>Champion</th>\n      <th>Runner-Up</th>\n      <th>Finals MVP</th>\n      <th>Top Scorer</th>\n      <th>Top Rebr</th>\n      <th>Top Asst</th>\n      <th>WS Lead</th>\n      <th>Points</th>\n      <th>Rebounds</th>\n      <th>Assists</th>\n      <th>Win Shares</th>\n      <th>Champ-Abbr</th>\n      <th>Runner-Up-Abbr</th>\n    </tr>\n  </thead>\n  <tbody>\n    <tr>\n      <th>0</th>\n      <td>2019</td>\n      <td>Toronto Raptors</td>\n      <td>Golden State Warriors</td>\n      <td>K. Leonard</td>\n      <td>K. Leonard (732)</td>\n      <td>D. Green (223)</td>\n      <td>D. Green (187)</td>\n      <td>K. Leonard (4.9)</td>\n      <td>732</td>\n      <td>223</td>\n      <td>187</td>\n      <td>4.9</td>\n      <td>TOR</td>\n      <td>GSW</td>\n    </tr>\n    <tr>\n      <th>1</th>\n      <td>2018</td>\n      <td>Golden State Warriors</td>\n      <td>Cleveland Cavaliers</td>\n      <td>K. Durant</td>\n      <td>L. James (748)</td>\n      <td>D. Green (222)</td>\n      <td>L. James (198)</td>\n      <td>L. James (5.2)</td>\n      <td>748</td>\n      <td>222</td>\n      <td>198</td>\n      <td>5.2</td>\n      <td>GSW</td>\n      <td>CLE</td>\n    </tr>\n    <tr>\n      <th>2</th>\n      <td>2017</td>\n      <td>Golden State Warriors</td>\n      <td>Cleveland Cavaliers</td>\n      <td>K. Durant</td>\n      <td>L. James (591)</td>\n      <td>K. Love (191)</td>\n      <td>L. James (141)</td>\n      <td>L. James (4.3)</td>\n      <td>591</td>\n      <td>191</td>\n      <td>141</td>\n      <td>4.3</td>\n      <td>GSW</td>\n      <td>CLE</td>\n    </tr>\n    <tr>\n      <th>3</th>\n      <td>2016</td>\n      <td>Cleveland Cavaliers</td>\n      <td>Golden State Warriors</td>\n      <td>L. James</td>\n      <td>K. Thompson (582)</td>\n      <td>D. Green (228)</td>\n      <td>R. Westbrook (198)</td>\n      <td>L. James (4.7)</td>\n      <td>582</td>\n      <td>228</td>\n      <td>198</td>\n      <td>4.7</td>\n      <td>CLE</td>\n      <td>GSW</td>\n    </tr>\n    <tr>\n      <th>4</th>\n      <td>2015</td>\n      <td>Golden State Warriors</td>\n      <td>Cleveland Cavaliers</td>\n      <td>A. Iguodala</td>\n      <td>L. James (601)</td>\n      <td>D. Howard (238)</td>\n      <td>L. James (169)</td>\n      <td>S. Curry (3.9)</td>\n      <td>601</td>\n      <td>238</td>\n      <td>169</td>\n      <td>3.9</td>\n      <td>GSW</td>\n      <td>CLE</td>\n    </tr>\n  </tbody>\n</table>\n</div>"
     },
     "metadata": {},
     "execution_count": 20
    }
   ],
   "source": [
    "champions = champ_data.sort_values(by=['Year'], ascending=False).reset_index().drop(columns=['index'])\n",
    "champions.head()"
   ]
  },
  {
   "cell_type": "markdown",
   "metadata": {},
   "source": [
    "Now adding indicator for the end of season result (1,0=champ, 0,1=runnerup, 0,0=nada) for both the players and coaches tables"
   ]
  },
  {
   "cell_type": "code",
   "execution_count": 21,
   "metadata": {},
   "outputs": [],
   "source": [
    "#one hot encoding for the end of season result for each player over the last ten seasons\n",
    "df_players['Champ'] = 0\n",
    "df_players['Runner-Up'] = 0\n",
    "df_coaches['Champ'] = 0\n",
    "df_coaches['Runner-Up'] = 0\n",
    "champs = champions.copy()\n",
    "\n",
    "for year, champ, ru in zip(champs.Year.values, champs['Champ-Abbr'].values, champs['Runner-Up-Abbr'].values):\n",
    "    df_players['Champ'][(df_players.Tm == champ) & (df_players.Year ==year)] = 1\n",
    "    df_players['Runner-Up'][(df_players.Tm == ru) & (df_players.Year ==year)] = 1\n",
    "    df_coaches['Champ'][(df_coaches.Team == champ) & (df_coaches.Year ==year)] = 1\n",
    "    df_coaches['Runner-Up'][(df_coaches.Team == ru) & (df_coaches.Year ==year)] = 1"
   ]
  },
  {
   "cell_type": "code",
   "execution_count": 22,
   "metadata": {},
   "outputs": [
    {
     "output_type": "execute_result",
     "data": {
      "text/plain": "                 Player Pos Age   Tm   G  GS    MP   FG   FGA   FG%  ...  TRB  \\\n1251       Cole Aldrich   C  23  OKC  26   0   6.7  0.8   1.6  .524  ...  1.8   \n1349      Nick Collison  PF  31  OKC  63   0  20.7  1.9   3.2  .597  ...  4.3   \n1354       Daequan Cook  SG  24  OKC  57  22  17.4  1.9   5.2  .368  ...  2.1   \n1390       Kevin Durant  SF  23  OKC  66  66  38.6  9.7  19.7  .496  ...  8.0   \n1417       Derek Fisher  PG  37  OKC  20   0  20.4  1.9   5.4  .343  ...  1.5   \n1467       James Harden  SG  22  OKC  62   2  31.4  5.0  10.1  .491  ...  4.1   \n1479      Lazar Hayward  SF  25  OKC  26   0   5.4  0.5   1.5  .342  ...  0.6   \n1515        Serge Ibaka  PF  22  OKC  66  66  27.2  4.0   7.4  .535  ...  7.5   \n1519         Royal Ivey  SG  30  OKC  34   0  10.4  0.8   2.1  .356  ...  0.7   \n1521     Reggie Jackson  PG  21  OKC  45   0  11.1  1.1   3.5  .321  ...  1.2   \n1602        Eric Maynor  PG  24  OKC   9   0  15.2  1.6   4.3  .359  ...  1.4   \n1620      Nazr Mohammed   C  34  OKC  63   1  11.0  1.3   2.7  .467  ...  2.7   \n1660   Kendrick Perkins   C  27  OKC  65  65  26.8  2.0   4.0  .489  ...  6.6   \n1676          Ryan Reid  PF  25  OKC   5   0   3.4  0.8   1.0  .800  ...  0.4   \n1692    Thabo Sefolosha  SG  27  OKC  42  42  21.8  1.6   3.7  .432  ...  3.0   \n1788  Russell Westbrook  PG  23  OKC  66  66  35.3  8.8  19.2  .457  ...  4.6   \n\n      AST  STL  BLK  TOV   PF   PTS  Year Champ Runner-Up  \n1251  0.1  0.3  0.6  0.3  0.8   2.2  2012     0         1  \n1349  1.3  0.5  0.4  1.0  2.4   4.5  2012     0         1  \n1354  0.3  0.4  0.2  0.3  1.2   5.5  2012     0         1  \n1390  3.5  1.3  1.2  3.8  2.0  28.0  2012     0         1  \n1417  1.4  0.6  0.1  0.8  1.6   4.9  2012     0         1  \n1467  3.7  1.0  0.2  2.2  2.4  16.8  2012     0         1  \n1479  0.2  0.1  0.0  0.3  0.7   1.4  2012     0         1  \n1515  0.4  0.5  3.7  1.2  2.7   9.1  2012     0         1  \n1519  0.3  0.4  0.0  0.3  1.1   2.1  2012     0         1  \n1521  1.6  0.6  0.0  0.8  0.7   3.1  2012     0         1  \n1602  2.4  0.6  0.0  1.2  1.4   4.2  2012     0         1  \n1620  0.2  0.3  0.6  0.4  1.6   2.7  2012     0         1  \n1660  1.2  0.4  1.1  1.8  2.9   5.1  2012     0         1  \n1676  0.0  0.0  0.0  0.2  0.2   1.6  2012     0         1  \n1692  1.1  0.9  0.4  1.0  1.9   4.8  2012     0         1  \n1788  5.5  1.7  0.3  3.6  2.2  23.6  2012     0         1  \n\n[16 rows x 32 columns]",
      "text/html": "<div>\n<style scoped>\n    .dataframe tbody tr th:only-of-type {\n        vertical-align: middle;\n    }\n\n    .dataframe tbody tr th {\n        vertical-align: top;\n    }\n\n    .dataframe thead th {\n        text-align: right;\n    }\n</style>\n<table border=\"1\" class=\"dataframe\">\n  <thead>\n    <tr style=\"text-align: right;\">\n      <th></th>\n      <th>Player</th>\n      <th>Pos</th>\n      <th>Age</th>\n      <th>Tm</th>\n      <th>G</th>\n      <th>GS</th>\n      <th>MP</th>\n      <th>FG</th>\n      <th>FGA</th>\n      <th>FG%</th>\n      <th>...</th>\n      <th>TRB</th>\n      <th>AST</th>\n      <th>STL</th>\n      <th>BLK</th>\n      <th>TOV</th>\n      <th>PF</th>\n      <th>PTS</th>\n      <th>Year</th>\n      <th>Champ</th>\n      <th>Runner-Up</th>\n    </tr>\n  </thead>\n  <tbody>\n    <tr>\n      <th>1251</th>\n      <td>Cole Aldrich</td>\n      <td>C</td>\n      <td>23</td>\n      <td>OKC</td>\n      <td>26</td>\n      <td>0</td>\n      <td>6.7</td>\n      <td>0.8</td>\n      <td>1.6</td>\n      <td>.524</td>\n      <td>...</td>\n      <td>1.8</td>\n      <td>0.1</td>\n      <td>0.3</td>\n      <td>0.6</td>\n      <td>0.3</td>\n      <td>0.8</td>\n      <td>2.2</td>\n      <td>2012</td>\n      <td>0</td>\n      <td>1</td>\n    </tr>\n    <tr>\n      <th>1349</th>\n      <td>Nick Collison</td>\n      <td>PF</td>\n      <td>31</td>\n      <td>OKC</td>\n      <td>63</td>\n      <td>0</td>\n      <td>20.7</td>\n      <td>1.9</td>\n      <td>3.2</td>\n      <td>.597</td>\n      <td>...</td>\n      <td>4.3</td>\n      <td>1.3</td>\n      <td>0.5</td>\n      <td>0.4</td>\n      <td>1.0</td>\n      <td>2.4</td>\n      <td>4.5</td>\n      <td>2012</td>\n      <td>0</td>\n      <td>1</td>\n    </tr>\n    <tr>\n      <th>1354</th>\n      <td>Daequan Cook</td>\n      <td>SG</td>\n      <td>24</td>\n      <td>OKC</td>\n      <td>57</td>\n      <td>22</td>\n      <td>17.4</td>\n      <td>1.9</td>\n      <td>5.2</td>\n      <td>.368</td>\n      <td>...</td>\n      <td>2.1</td>\n      <td>0.3</td>\n      <td>0.4</td>\n      <td>0.2</td>\n      <td>0.3</td>\n      <td>1.2</td>\n      <td>5.5</td>\n      <td>2012</td>\n      <td>0</td>\n      <td>1</td>\n    </tr>\n    <tr>\n      <th>1390</th>\n      <td>Kevin Durant</td>\n      <td>SF</td>\n      <td>23</td>\n      <td>OKC</td>\n      <td>66</td>\n      <td>66</td>\n      <td>38.6</td>\n      <td>9.7</td>\n      <td>19.7</td>\n      <td>.496</td>\n      <td>...</td>\n      <td>8.0</td>\n      <td>3.5</td>\n      <td>1.3</td>\n      <td>1.2</td>\n      <td>3.8</td>\n      <td>2.0</td>\n      <td>28.0</td>\n      <td>2012</td>\n      <td>0</td>\n      <td>1</td>\n    </tr>\n    <tr>\n      <th>1417</th>\n      <td>Derek Fisher</td>\n      <td>PG</td>\n      <td>37</td>\n      <td>OKC</td>\n      <td>20</td>\n      <td>0</td>\n      <td>20.4</td>\n      <td>1.9</td>\n      <td>5.4</td>\n      <td>.343</td>\n      <td>...</td>\n      <td>1.5</td>\n      <td>1.4</td>\n      <td>0.6</td>\n      <td>0.1</td>\n      <td>0.8</td>\n      <td>1.6</td>\n      <td>4.9</td>\n      <td>2012</td>\n      <td>0</td>\n      <td>1</td>\n    </tr>\n    <tr>\n      <th>1467</th>\n      <td>James Harden</td>\n      <td>SG</td>\n      <td>22</td>\n      <td>OKC</td>\n      <td>62</td>\n      <td>2</td>\n      <td>31.4</td>\n      <td>5.0</td>\n      <td>10.1</td>\n      <td>.491</td>\n      <td>...</td>\n      <td>4.1</td>\n      <td>3.7</td>\n      <td>1.0</td>\n      <td>0.2</td>\n      <td>2.2</td>\n      <td>2.4</td>\n      <td>16.8</td>\n      <td>2012</td>\n      <td>0</td>\n      <td>1</td>\n    </tr>\n    <tr>\n      <th>1479</th>\n      <td>Lazar Hayward</td>\n      <td>SF</td>\n      <td>25</td>\n      <td>OKC</td>\n      <td>26</td>\n      <td>0</td>\n      <td>5.4</td>\n      <td>0.5</td>\n      <td>1.5</td>\n      <td>.342</td>\n      <td>...</td>\n      <td>0.6</td>\n      <td>0.2</td>\n      <td>0.1</td>\n      <td>0.0</td>\n      <td>0.3</td>\n      <td>0.7</td>\n      <td>1.4</td>\n      <td>2012</td>\n      <td>0</td>\n      <td>1</td>\n    </tr>\n    <tr>\n      <th>1515</th>\n      <td>Serge Ibaka</td>\n      <td>PF</td>\n      <td>22</td>\n      <td>OKC</td>\n      <td>66</td>\n      <td>66</td>\n      <td>27.2</td>\n      <td>4.0</td>\n      <td>7.4</td>\n      <td>.535</td>\n      <td>...</td>\n      <td>7.5</td>\n      <td>0.4</td>\n      <td>0.5</td>\n      <td>3.7</td>\n      <td>1.2</td>\n      <td>2.7</td>\n      <td>9.1</td>\n      <td>2012</td>\n      <td>0</td>\n      <td>1</td>\n    </tr>\n    <tr>\n      <th>1519</th>\n      <td>Royal Ivey</td>\n      <td>SG</td>\n      <td>30</td>\n      <td>OKC</td>\n      <td>34</td>\n      <td>0</td>\n      <td>10.4</td>\n      <td>0.8</td>\n      <td>2.1</td>\n      <td>.356</td>\n      <td>...</td>\n      <td>0.7</td>\n      <td>0.3</td>\n      <td>0.4</td>\n      <td>0.0</td>\n      <td>0.3</td>\n      <td>1.1</td>\n      <td>2.1</td>\n      <td>2012</td>\n      <td>0</td>\n      <td>1</td>\n    </tr>\n    <tr>\n      <th>1521</th>\n      <td>Reggie Jackson</td>\n      <td>PG</td>\n      <td>21</td>\n      <td>OKC</td>\n      <td>45</td>\n      <td>0</td>\n      <td>11.1</td>\n      <td>1.1</td>\n      <td>3.5</td>\n      <td>.321</td>\n      <td>...</td>\n      <td>1.2</td>\n      <td>1.6</td>\n      <td>0.6</td>\n      <td>0.0</td>\n      <td>0.8</td>\n      <td>0.7</td>\n      <td>3.1</td>\n      <td>2012</td>\n      <td>0</td>\n      <td>1</td>\n    </tr>\n    <tr>\n      <th>1602</th>\n      <td>Eric Maynor</td>\n      <td>PG</td>\n      <td>24</td>\n      <td>OKC</td>\n      <td>9</td>\n      <td>0</td>\n      <td>15.2</td>\n      <td>1.6</td>\n      <td>4.3</td>\n      <td>.359</td>\n      <td>...</td>\n      <td>1.4</td>\n      <td>2.4</td>\n      <td>0.6</td>\n      <td>0.0</td>\n      <td>1.2</td>\n      <td>1.4</td>\n      <td>4.2</td>\n      <td>2012</td>\n      <td>0</td>\n      <td>1</td>\n    </tr>\n    <tr>\n      <th>1620</th>\n      <td>Nazr Mohammed</td>\n      <td>C</td>\n      <td>34</td>\n      <td>OKC</td>\n      <td>63</td>\n      <td>1</td>\n      <td>11.0</td>\n      <td>1.3</td>\n      <td>2.7</td>\n      <td>.467</td>\n      <td>...</td>\n      <td>2.7</td>\n      <td>0.2</td>\n      <td>0.3</td>\n      <td>0.6</td>\n      <td>0.4</td>\n      <td>1.6</td>\n      <td>2.7</td>\n      <td>2012</td>\n      <td>0</td>\n      <td>1</td>\n    </tr>\n    <tr>\n      <th>1660</th>\n      <td>Kendrick Perkins</td>\n      <td>C</td>\n      <td>27</td>\n      <td>OKC</td>\n      <td>65</td>\n      <td>65</td>\n      <td>26.8</td>\n      <td>2.0</td>\n      <td>4.0</td>\n      <td>.489</td>\n      <td>...</td>\n      <td>6.6</td>\n      <td>1.2</td>\n      <td>0.4</td>\n      <td>1.1</td>\n      <td>1.8</td>\n      <td>2.9</td>\n      <td>5.1</td>\n      <td>2012</td>\n      <td>0</td>\n      <td>1</td>\n    </tr>\n    <tr>\n      <th>1676</th>\n      <td>Ryan Reid</td>\n      <td>PF</td>\n      <td>25</td>\n      <td>OKC</td>\n      <td>5</td>\n      <td>0</td>\n      <td>3.4</td>\n      <td>0.8</td>\n      <td>1.0</td>\n      <td>.800</td>\n      <td>...</td>\n      <td>0.4</td>\n      <td>0.0</td>\n      <td>0.0</td>\n      <td>0.0</td>\n      <td>0.2</td>\n      <td>0.2</td>\n      <td>1.6</td>\n      <td>2012</td>\n      <td>0</td>\n      <td>1</td>\n    </tr>\n    <tr>\n      <th>1692</th>\n      <td>Thabo Sefolosha</td>\n      <td>SG</td>\n      <td>27</td>\n      <td>OKC</td>\n      <td>42</td>\n      <td>42</td>\n      <td>21.8</td>\n      <td>1.6</td>\n      <td>3.7</td>\n      <td>.432</td>\n      <td>...</td>\n      <td>3.0</td>\n      <td>1.1</td>\n      <td>0.9</td>\n      <td>0.4</td>\n      <td>1.0</td>\n      <td>1.9</td>\n      <td>4.8</td>\n      <td>2012</td>\n      <td>0</td>\n      <td>1</td>\n    </tr>\n    <tr>\n      <th>1788</th>\n      <td>Russell Westbrook</td>\n      <td>PG</td>\n      <td>23</td>\n      <td>OKC</td>\n      <td>66</td>\n      <td>66</td>\n      <td>35.3</td>\n      <td>8.8</td>\n      <td>19.2</td>\n      <td>.457</td>\n      <td>...</td>\n      <td>4.6</td>\n      <td>5.5</td>\n      <td>1.7</td>\n      <td>0.3</td>\n      <td>3.6</td>\n      <td>2.2</td>\n      <td>23.6</td>\n      <td>2012</td>\n      <td>0</td>\n      <td>1</td>\n    </tr>\n  </tbody>\n</table>\n<p>16 rows × 32 columns</p>\n</div>"
     },
     "metadata": {},
     "execution_count": 22
    }
   ],
   "source": [
    "#test to see if values added correctly = Thunder lost in the finals\n",
    "df_players[(df_players.Tm == 'OKC') & (df_players.Year ==2012)]"
   ]
  },
  {
   "cell_type": "code",
   "execution_count": 23,
   "metadata": {},
   "outputs": [
    {
     "output_type": "execute_result",
     "data": {
      "text/plain": "          Coach Team F-Seasons Car-Seasons CR-G CR-W CR-L FR-G FR-W FR-L  ...  \\\n177  Steve Kerr  GSW         1           1   82   67   15   82   67   15  ...   \n212  Steve Kerr  GSW         2           2   82   73    9  164  140   24  ...   \n245  Steve Kerr  GSW         3           3   82   67   15  246  207   39  ...   \n275  Steve Kerr  GSW         4           4   82   58   24  328  265   63  ...   \n310  Steve Kerr  GSW         5           5   82   57   25  410  322   88  ...   \n\n    CP-L FP-G FP-W FP-L Car.P-G Car.P-W Car.P-L  Year Champ Runner-Up  \n177    5   21   16    5      21      16       5  2015     1         0  \n212    9   45   31   14      45      31      14  2016     0         1  \n245    1   62   47   15      62      47      15  2017     1         0  \n275    5   83   63   20      83      63      20  2018     1         0  \n310    8  105   77   28     105      77      28  2019     0         1  \n\n[5 rows x 26 columns]",
      "text/html": "<div>\n<style scoped>\n    .dataframe tbody tr th:only-of-type {\n        vertical-align: middle;\n    }\n\n    .dataframe tbody tr th {\n        vertical-align: top;\n    }\n\n    .dataframe thead th {\n        text-align: right;\n    }\n</style>\n<table border=\"1\" class=\"dataframe\">\n  <thead>\n    <tr style=\"text-align: right;\">\n      <th></th>\n      <th>Coach</th>\n      <th>Team</th>\n      <th>F-Seasons</th>\n      <th>Car-Seasons</th>\n      <th>CR-G</th>\n      <th>CR-W</th>\n      <th>CR-L</th>\n      <th>FR-G</th>\n      <th>FR-W</th>\n      <th>FR-L</th>\n      <th>...</th>\n      <th>CP-L</th>\n      <th>FP-G</th>\n      <th>FP-W</th>\n      <th>FP-L</th>\n      <th>Car.P-G</th>\n      <th>Car.P-W</th>\n      <th>Car.P-L</th>\n      <th>Year</th>\n      <th>Champ</th>\n      <th>Runner-Up</th>\n    </tr>\n  </thead>\n  <tbody>\n    <tr>\n      <th>177</th>\n      <td>Steve Kerr</td>\n      <td>GSW</td>\n      <td>1</td>\n      <td>1</td>\n      <td>82</td>\n      <td>67</td>\n      <td>15</td>\n      <td>82</td>\n      <td>67</td>\n      <td>15</td>\n      <td>...</td>\n      <td>5</td>\n      <td>21</td>\n      <td>16</td>\n      <td>5</td>\n      <td>21</td>\n      <td>16</td>\n      <td>5</td>\n      <td>2015</td>\n      <td>1</td>\n      <td>0</td>\n    </tr>\n    <tr>\n      <th>212</th>\n      <td>Steve Kerr</td>\n      <td>GSW</td>\n      <td>2</td>\n      <td>2</td>\n      <td>82</td>\n      <td>73</td>\n      <td>9</td>\n      <td>164</td>\n      <td>140</td>\n      <td>24</td>\n      <td>...</td>\n      <td>9</td>\n      <td>45</td>\n      <td>31</td>\n      <td>14</td>\n      <td>45</td>\n      <td>31</td>\n      <td>14</td>\n      <td>2016</td>\n      <td>0</td>\n      <td>1</td>\n    </tr>\n    <tr>\n      <th>245</th>\n      <td>Steve Kerr</td>\n      <td>GSW</td>\n      <td>3</td>\n      <td>3</td>\n      <td>82</td>\n      <td>67</td>\n      <td>15</td>\n      <td>246</td>\n      <td>207</td>\n      <td>39</td>\n      <td>...</td>\n      <td>1</td>\n      <td>62</td>\n      <td>47</td>\n      <td>15</td>\n      <td>62</td>\n      <td>47</td>\n      <td>15</td>\n      <td>2017</td>\n      <td>1</td>\n      <td>0</td>\n    </tr>\n    <tr>\n      <th>275</th>\n      <td>Steve Kerr</td>\n      <td>GSW</td>\n      <td>4</td>\n      <td>4</td>\n      <td>82</td>\n      <td>58</td>\n      <td>24</td>\n      <td>328</td>\n      <td>265</td>\n      <td>63</td>\n      <td>...</td>\n      <td>5</td>\n      <td>83</td>\n      <td>63</td>\n      <td>20</td>\n      <td>83</td>\n      <td>63</td>\n      <td>20</td>\n      <td>2018</td>\n      <td>1</td>\n      <td>0</td>\n    </tr>\n    <tr>\n      <th>310</th>\n      <td>Steve Kerr</td>\n      <td>GSW</td>\n      <td>5</td>\n      <td>5</td>\n      <td>82</td>\n      <td>57</td>\n      <td>25</td>\n      <td>410</td>\n      <td>322</td>\n      <td>88</td>\n      <td>...</td>\n      <td>8</td>\n      <td>105</td>\n      <td>77</td>\n      <td>28</td>\n      <td>105</td>\n      <td>77</td>\n      <td>28</td>\n      <td>2019</td>\n      <td>0</td>\n      <td>1</td>\n    </tr>\n  </tbody>\n</table>\n<p>5 rows × 26 columns</p>\n</div>"
     },
     "metadata": {},
     "execution_count": 23
    }
   ],
   "source": [
    "#coaches -> see Steve Kerr's finals record\n",
    "df_coaches[df_coaches.Coach == 'Steve Kerr']"
   ]
  },
  {
   "cell_type": "code",
   "execution_count": 24,
   "metadata": {
    "tags": []
   },
   "outputs": [
    {
     "output_type": "stream",
     "name": "stdout",
     "text": "coaches table <class 'str'>\nplayers table <class 'str'>\n"
    }
   ],
   "source": [
    "#check type -> need to be accurate for later computations\n",
    "print('coaches table', type(df_coaches['F-Seasons'].iloc[0]))\n",
    "print('players table', type(df_players['Age'].iloc[0]))"
   ]
  },
  {
   "cell_type": "code",
   "execution_count": 25,
   "metadata": {},
   "outputs": [
    {
     "output_type": "execute_result",
     "data": {
      "text/plain": "Coach          object\nTeam           object\nF-Seasons      object\nCar-Seasons    object\nCR-G           object\nCR-W           object\nCR-L           object\nFR-G           object\nFR-W           object\nFR-L           object\nCar-G          object\nCar-W          object\nCar-L          object\nCar-W%         object\nCP-G           object\nCP-W           object\nCP-L           object\nFP-G           object\nFP-W           object\nFP-L           object\nCar.P-G        object\nCar.P-W        object\nCar.P-L        object\nYear            int64\nChamp           int64\nRunner-Up       int64\ndtype: object"
     },
     "metadata": {},
     "execution_count": 25
    }
   ],
   "source": [
    "#see what columns need updating, and corresponding data type\n",
    "df_coaches.dtypes\n",
    "#should be 1 float(win pct), 2 str(coach, team), else all int"
   ]
  },
  {
   "cell_type": "code",
   "execution_count": 26,
   "metadata": {},
   "outputs": [
    {
     "output_type": "execute_result",
     "data": {
      "text/plain": "Coach           object\nTeam            object\nF-Seasons        int64\nCar-Seasons      int64\nCR-G             int64\nCR-W             int64\nCR-L             int64\nFR-G             int64\nFR-W             int64\nFR-L             int64\nCar-G            int64\nCar-W            int64\nCar-L            int64\nCar-W%         float64\nCP-G           float64\nCP-W           float64\nCP-L           float64\nFP-G           float64\nFP-W           float64\nFP-L           float64\nCar.P-G        float64\nCar.P-W        float64\nCar.P-L        float64\nYear             int64\nChamp            int64\nRunner-Up        int64\ndtype: object"
     },
     "metadata": {},
     "execution_count": 26
    }
   ],
   "source": [
    "#convert method\n",
    "others = [i for i in list(df_coaches.columns.values) if i not in ['Team', 'Coach']]\n",
    "for i in others: \n",
    "    df_coaches[i] = pd.to_numeric(df_coaches[i], errors='coerce')\n",
    "df_coaches.dtypes"
   ]
  },
  {
   "cell_type": "code",
   "execution_count": 27,
   "metadata": {},
   "outputs": [
    {
     "output_type": "execute_result",
     "data": {
      "text/plain": "             Coach Team  F-Seasons  Car-Seasons  CR-G  CR-W  CR-L  FR-G  FR-W  \\\n0     Mike Woodson  ATL          6            6    82    53    29   492   206   \n1       Doc Rivers  BOS          6           11    82    50    32   492   280   \n2      Larry Brown  CHA          2           29    82    44    38   164    79   \n3  Vinny Del Negro  CHI          2            2    82    41    41   164    82   \n4       Mike Brown  CLE          5            5    82    61    21   410   272   \n\n   FR-L  ...  CP-L  FP-G  FP-W  FP-L  Car.P-G  Car.P-W  Car.P-L  Year  Champ  \\\n0   286  ...   7.0  29.0  11.0  18.0     29.0     11.0     18.0  2010      0   \n1   212  ...   9.0  71.0  41.0  30.0     86.0     46.0     40.0  2010      0   \n2    85  ...   4.0   4.0   0.0   4.0    235.0    120.0    115.0  2010      0   \n3    82  ...   4.0  12.0   4.0   8.0     12.0      4.0      8.0  2010      0   \n4   138  ...   5.0  71.0  42.0  29.0     71.0     42.0     29.0  2010      0   \n\n   Runner-Up  \n0          0  \n1          1  \n2          0  \n3          0  \n4          0  \n\n[5 rows x 26 columns]",
      "text/html": "<div>\n<style scoped>\n    .dataframe tbody tr th:only-of-type {\n        vertical-align: middle;\n    }\n\n    .dataframe tbody tr th {\n        vertical-align: top;\n    }\n\n    .dataframe thead th {\n        text-align: right;\n    }\n</style>\n<table border=\"1\" class=\"dataframe\">\n  <thead>\n    <tr style=\"text-align: right;\">\n      <th></th>\n      <th>Coach</th>\n      <th>Team</th>\n      <th>F-Seasons</th>\n      <th>Car-Seasons</th>\n      <th>CR-G</th>\n      <th>CR-W</th>\n      <th>CR-L</th>\n      <th>FR-G</th>\n      <th>FR-W</th>\n      <th>FR-L</th>\n      <th>...</th>\n      <th>CP-L</th>\n      <th>FP-G</th>\n      <th>FP-W</th>\n      <th>FP-L</th>\n      <th>Car.P-G</th>\n      <th>Car.P-W</th>\n      <th>Car.P-L</th>\n      <th>Year</th>\n      <th>Champ</th>\n      <th>Runner-Up</th>\n    </tr>\n  </thead>\n  <tbody>\n    <tr>\n      <th>0</th>\n      <td>Mike Woodson</td>\n      <td>ATL</td>\n      <td>6</td>\n      <td>6</td>\n      <td>82</td>\n      <td>53</td>\n      <td>29</td>\n      <td>492</td>\n      <td>206</td>\n      <td>286</td>\n      <td>...</td>\n      <td>7.0</td>\n      <td>29.0</td>\n      <td>11.0</td>\n      <td>18.0</td>\n      <td>29.0</td>\n      <td>11.0</td>\n      <td>18.0</td>\n      <td>2010</td>\n      <td>0</td>\n      <td>0</td>\n    </tr>\n    <tr>\n      <th>1</th>\n      <td>Doc Rivers</td>\n      <td>BOS</td>\n      <td>6</td>\n      <td>11</td>\n      <td>82</td>\n      <td>50</td>\n      <td>32</td>\n      <td>492</td>\n      <td>280</td>\n      <td>212</td>\n      <td>...</td>\n      <td>9.0</td>\n      <td>71.0</td>\n      <td>41.0</td>\n      <td>30.0</td>\n      <td>86.0</td>\n      <td>46.0</td>\n      <td>40.0</td>\n      <td>2010</td>\n      <td>0</td>\n      <td>1</td>\n    </tr>\n    <tr>\n      <th>2</th>\n      <td>Larry Brown</td>\n      <td>CHA</td>\n      <td>2</td>\n      <td>29</td>\n      <td>82</td>\n      <td>44</td>\n      <td>38</td>\n      <td>164</td>\n      <td>79</td>\n      <td>85</td>\n      <td>...</td>\n      <td>4.0</td>\n      <td>4.0</td>\n      <td>0.0</td>\n      <td>4.0</td>\n      <td>235.0</td>\n      <td>120.0</td>\n      <td>115.0</td>\n      <td>2010</td>\n      <td>0</td>\n      <td>0</td>\n    </tr>\n    <tr>\n      <th>3</th>\n      <td>Vinny Del Negro</td>\n      <td>CHI</td>\n      <td>2</td>\n      <td>2</td>\n      <td>82</td>\n      <td>41</td>\n      <td>41</td>\n      <td>164</td>\n      <td>82</td>\n      <td>82</td>\n      <td>...</td>\n      <td>4.0</td>\n      <td>12.0</td>\n      <td>4.0</td>\n      <td>8.0</td>\n      <td>12.0</td>\n      <td>4.0</td>\n      <td>8.0</td>\n      <td>2010</td>\n      <td>0</td>\n      <td>0</td>\n    </tr>\n    <tr>\n      <th>4</th>\n      <td>Mike Brown</td>\n      <td>CLE</td>\n      <td>5</td>\n      <td>5</td>\n      <td>82</td>\n      <td>61</td>\n      <td>21</td>\n      <td>410</td>\n      <td>272</td>\n      <td>138</td>\n      <td>...</td>\n      <td>5.0</td>\n      <td>71.0</td>\n      <td>42.0</td>\n      <td>29.0</td>\n      <td>71.0</td>\n      <td>42.0</td>\n      <td>29.0</td>\n      <td>2010</td>\n      <td>0</td>\n      <td>0</td>\n    </tr>\n  </tbody>\n</table>\n<p>5 rows × 26 columns</p>\n</div>"
     },
     "metadata": {},
     "execution_count": 27
    }
   ],
   "source": [
    "df_coaches.head()"
   ]
  },
  {
   "cell_type": "code",
   "execution_count": 28,
   "metadata": {},
   "outputs": [
    {
     "output_type": "execute_result",
     "data": {
      "text/plain": "Player       object\nPos          object\nAge          object\nTm           object\nG            object\nGS           object\nMP           object\nFG           object\nFGA          object\nFG%          object\n3P           object\n3PA          object\n3P%          object\n2P           object\n2PA          object\n2P%          object\neFG%         object\nFT           object\nFTA          object\nFT%          object\nORB          object\nDRB          object\nTRB          object\nAST          object\nSTL          object\nBLK          object\nTOV          object\nPF           object\nPTS          object\nYear          int64\nChamp         int64\nRunner-Up     int64\ndtype: object"
     },
     "metadata": {},
     "execution_count": 28
    }
   ],
   "source": [
    "df_players.dtypes\n",
    "#should be -> ints = Age, G, GS, Year, Champ, Runner-Up\n",
    "#should be -> str = Player, Pos, Tm, else floats"
   ]
  },
  {
   "cell_type": "code",
   "execution_count": 29,
   "metadata": {},
   "outputs": [
    {
     "output_type": "execute_result",
     "data": {
      "text/plain": "Player        object\nPos           object\nAge            Int64\nTm            object\nG              Int64\nGS             Int64\nMP           float64\nFG           float64\nFGA          float64\nFG%          float64\n3P           float64\n3PA          float64\n3P%          float64\n2P           float64\n2PA          float64\n2P%          float64\neFG%         float64\nFT           float64\nFTA          float64\nFT%          float64\nORB          float64\nDRB          float64\nTRB          float64\nAST          float64\nSTL          float64\nBLK          float64\nTOV          float64\nPF           float64\nPTS          float64\nYear           Int64\nChamp          Int64\nRunner-Up      Int64\ndtype: object"
     },
     "metadata": {},
     "execution_count": 29
    }
   ],
   "source": [
    "cols = list(df_players.columns.values)\n",
    "ints = ['Age', 'G', 'GS', 'Year', 'Champ', 'Runner-Up']\n",
    "others = [i for i in cols if i not in ['Player', 'Pos', 'Tm'] and i not in ints]\n",
    "for s in ['Player', 'Pos', 'Tm']: df_players[s] = df_players[s].astype(str)\n",
    "for i in ints: \n",
    "    df_players[i] = pd.to_numeric(df_players[i], errors='coerce')\n",
    "    df_players[i] = df_players[i].astype('Int64')\n",
    "for f in others: df_players[f] = pd.to_numeric(df_players[f], errors='coerce')\n",
    "df_players.dtypes"
   ]
  },
  {
   "cell_type": "code",
   "execution_count": 30,
   "metadata": {},
   "outputs": [
    {
     "output_type": "execute_result",
     "data": {
      "text/plain": "              Player Pos  Age   Tm   G  GS    MP   FG   FGA    FG%  ...  TRB  \\\n0      Arron Afflalo  SG   24  DEN  82  75  27.1  3.3   7.1  0.465  ...  3.1   \n1      Alexis Ajinça   C   21  CHA   6   0   5.0  0.8   1.7  0.500  ...  0.7   \n2  LaMarcus Aldridge  PF   24  POR  78  78  37.5  7.4  15.0  0.495  ...  8.0   \n3      Joe Alexander  SF   23  CHI   8   0   3.6  0.1   0.8  0.167  ...  0.6   \n4        Malik Allen  PF   31  DEN  51   3   8.9  0.9   2.3  0.397  ...  1.6   \n\n   AST  STL  BLK  TOV   PF   PTS  Year  Champ  Runner-Up  \n0  1.7  0.6  0.4  0.9  2.7   8.8  2010      0          0  \n1  0.0  0.2  0.2  0.3  0.8   1.7  2010      0          0  \n2  2.1  0.9  0.6  1.3  3.0  17.9  2010      0          0  \n3  0.3  0.1  0.1  0.0  1.1   0.5  2010      0          0  \n4  0.3  0.2  0.1  0.4  1.3   2.1  2010      0          0  \n\n[5 rows x 32 columns]",
      "text/html": "<div>\n<style scoped>\n    .dataframe tbody tr th:only-of-type {\n        vertical-align: middle;\n    }\n\n    .dataframe tbody tr th {\n        vertical-align: top;\n    }\n\n    .dataframe thead th {\n        text-align: right;\n    }\n</style>\n<table border=\"1\" class=\"dataframe\">\n  <thead>\n    <tr style=\"text-align: right;\">\n      <th></th>\n      <th>Player</th>\n      <th>Pos</th>\n      <th>Age</th>\n      <th>Tm</th>\n      <th>G</th>\n      <th>GS</th>\n      <th>MP</th>\n      <th>FG</th>\n      <th>FGA</th>\n      <th>FG%</th>\n      <th>...</th>\n      <th>TRB</th>\n      <th>AST</th>\n      <th>STL</th>\n      <th>BLK</th>\n      <th>TOV</th>\n      <th>PF</th>\n      <th>PTS</th>\n      <th>Year</th>\n      <th>Champ</th>\n      <th>Runner-Up</th>\n    </tr>\n  </thead>\n  <tbody>\n    <tr>\n      <th>0</th>\n      <td>Arron Afflalo</td>\n      <td>SG</td>\n      <td>24</td>\n      <td>DEN</td>\n      <td>82</td>\n      <td>75</td>\n      <td>27.1</td>\n      <td>3.3</td>\n      <td>7.1</td>\n      <td>0.465</td>\n      <td>...</td>\n      <td>3.1</td>\n      <td>1.7</td>\n      <td>0.6</td>\n      <td>0.4</td>\n      <td>0.9</td>\n      <td>2.7</td>\n      <td>8.8</td>\n      <td>2010</td>\n      <td>0</td>\n      <td>0</td>\n    </tr>\n    <tr>\n      <th>1</th>\n      <td>Alexis Ajinça</td>\n      <td>C</td>\n      <td>21</td>\n      <td>CHA</td>\n      <td>6</td>\n      <td>0</td>\n      <td>5.0</td>\n      <td>0.8</td>\n      <td>1.7</td>\n      <td>0.500</td>\n      <td>...</td>\n      <td>0.7</td>\n      <td>0.0</td>\n      <td>0.2</td>\n      <td>0.2</td>\n      <td>0.3</td>\n      <td>0.8</td>\n      <td>1.7</td>\n      <td>2010</td>\n      <td>0</td>\n      <td>0</td>\n    </tr>\n    <tr>\n      <th>2</th>\n      <td>LaMarcus Aldridge</td>\n      <td>PF</td>\n      <td>24</td>\n      <td>POR</td>\n      <td>78</td>\n      <td>78</td>\n      <td>37.5</td>\n      <td>7.4</td>\n      <td>15.0</td>\n      <td>0.495</td>\n      <td>...</td>\n      <td>8.0</td>\n      <td>2.1</td>\n      <td>0.9</td>\n      <td>0.6</td>\n      <td>1.3</td>\n      <td>3.0</td>\n      <td>17.9</td>\n      <td>2010</td>\n      <td>0</td>\n      <td>0</td>\n    </tr>\n    <tr>\n      <th>3</th>\n      <td>Joe Alexander</td>\n      <td>SF</td>\n      <td>23</td>\n      <td>CHI</td>\n      <td>8</td>\n      <td>0</td>\n      <td>3.6</td>\n      <td>0.1</td>\n      <td>0.8</td>\n      <td>0.167</td>\n      <td>...</td>\n      <td>0.6</td>\n      <td>0.3</td>\n      <td>0.1</td>\n      <td>0.1</td>\n      <td>0.0</td>\n      <td>1.1</td>\n      <td>0.5</td>\n      <td>2010</td>\n      <td>0</td>\n      <td>0</td>\n    </tr>\n    <tr>\n      <th>4</th>\n      <td>Malik Allen</td>\n      <td>PF</td>\n      <td>31</td>\n      <td>DEN</td>\n      <td>51</td>\n      <td>3</td>\n      <td>8.9</td>\n      <td>0.9</td>\n      <td>2.3</td>\n      <td>0.397</td>\n      <td>...</td>\n      <td>1.6</td>\n      <td>0.3</td>\n      <td>0.2</td>\n      <td>0.1</td>\n      <td>0.4</td>\n      <td>1.3</td>\n      <td>2.1</td>\n      <td>2010</td>\n      <td>0</td>\n      <td>0</td>\n    </tr>\n  </tbody>\n</table>\n<p>5 rows × 32 columns</p>\n</div>"
     },
     "metadata": {},
     "execution_count": 30
    }
   ],
   "source": [
    "df_players.head()"
   ]
  },
  {
   "cell_type": "code",
   "execution_count": 31,
   "metadata": {},
   "outputs": [],
   "source": [
    "#save to files\n",
    "df_players.to_csv('players.csv')\n",
    "df_coaches.to_csv('coaches.csv')\n",
    "champions.to_csv('champions.csv')\n",
    "team_names.to_csv('team_names.csv')"
   ]
  },
  {
   "cell_type": "code",
   "execution_count": null,
   "metadata": {},
   "outputs": [],
   "source": []
  }
 ],
 "metadata": {
  "language_info": {
   "codemirror_mode": {
    "name": "ipython",
    "version": 3
   },
   "file_extension": ".py",
   "mimetype": "text/x-python",
   "name": "python",
   "nbconvert_exporter": "python",
   "pygments_lexer": "ipython3",
   "version": "3.7.6-final"
  },
  "orig_nbformat": 2,
  "kernelspec": {
   "name": "python_defaultSpec_1600654194518",
   "display_name": "Python 3.7.6 64-bit"
  }
 },
 "nbformat": 4,
 "nbformat_minor": 2
}